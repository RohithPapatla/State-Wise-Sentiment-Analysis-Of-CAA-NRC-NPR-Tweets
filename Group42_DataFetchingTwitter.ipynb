{
 "cells": [
  {
   "cell_type": "code",
   "execution_count": 8,
   "metadata": {},
   "outputs": [],
   "source": [
    "import tweepy\n",
    "import tqdm\n",
    "import csv\n",
    "import json\n",
    "import time\n",
    "from tqdm import tqdm_notebook as tqdm"
   ]
  },
  {
   "cell_type": "code",
   "execution_count": 9,
   "metadata": {},
   "outputs": [],
   "source": [
    "def makeAuthConnection():\n",
    "    consumerApiKey = \n",
    "    consumerApiSecret = \n",
    "    acessToken = \n",
    "    acessTokenSecret  = \n",
    "    \n",
    "    auth = tweepy.OAuthHandler(consumerApiKey, consumerApiSecret)\n",
    "    #auth = tweepy.AppAuthHandler(consumerApiKey, consumerApiSecret)\n",
    "    auth.set_access_token(acessToken, acessTokenSecret)\n",
    "    return tweepy.API(auth , wait_on_rate_limit = True,wait_on_rate_limit_notify = True)"
   ]
  },
  {
   "cell_type": "code",
   "execution_count": 10,
   "metadata": {},
   "outputs": [],
   "source": [
    "api = makeAuthConnection()"
   ]
  },
  {
   "cell_type": "code",
   "execution_count": 11,
   "metadata": {},
   "outputs": [],
   "source": [
    "def checkRemainingSearchCount():\n",
    "    jsonString = api.rate_limit_status()['resources']['search']['/search/tweets']\n",
    "    upperLimit = jsonString['limit']\n",
    "    remiaingFetch = jsonString['remaining']\n",
    "    #resetTime = jsonString['reset']/60000 \n",
    "    print (jsonString)\n",
    "    return upperLimit, remiaingFetch"
   ]
  },
  {
   "cell_type": "code",
   "execution_count": 12,
   "metadata": {},
   "outputs": [
    {
     "name": "stdout",
     "output_type": "stream",
     "text": [
      "{'limit': 180, 'remaining': 180, 'reset': 1584293089}\n"
     ]
    },
    {
     "data": {
      "text/plain": [
       "(180, 180)"
      ]
     },
     "execution_count": 12,
     "metadata": {},
     "output_type": "execute_result"
    }
   ],
   "source": [
    "checkRemainingSearchCount()"
   ]
  },
  {
   "cell_type": "code",
   "execution_count": 13,
   "metadata": {},
   "outputs": [],
   "source": [
    "def searchTweetsByHashtag(searchlist):\n",
    "    \n",
    "    searchFilter = ' AND -filter:links and -filter:videos'\n",
    "    with open (\"D:/Information Retrieval/Project/tweet_data_15thMarch.csv\", \"a\", newline='', encoding=\"utf-8\") as sampleFile:\n",
    "        \n",
    "        writer = csv.writer(sampleFile, quoting = csv.QUOTE_NONNUMERIC)\n",
    "        try:\n",
    "            for searchString in searchlist: \n",
    "                search_result = api.search(q=searchString + searchFilter, count=1, lang=\"en\", tweet_mode='extended'\n",
    "                                           , result_type  = 'recent')\n",
    "                if(len(search_result) == 0):\n",
    "                    print(\"*************No data on \"+ searchString +\" hashtag.***************\")\n",
    "                else : \n",
    "                    max_id = search_result[0].id\n",
    "                    print(\"max_id\",max_id)\n",
    "                    old_id = -1\n",
    "                    i = 1\n",
    "                    while(max_id != old_id):\n",
    "                        old_id = max_id\n",
    "                        tweetDic = tweepy.Cursor(api.search,q = searchString + searchFilter  ,lang  = 'en'\n",
    "                                                 ,include_entities=False,tweet_mode='extended',count = 100\n",
    "                                                 ,max_id = max_id).items(300)\n",
    "                        print(\"loop count\",i)\n",
    "                        for tweets in tweetDic:\n",
    "                            jsonString = tweets._json\n",
    "                            \n",
    "                            csv_row = [jsonString['user']['location'], jsonString['place'], jsonString['retweet_count'], jsonString['created_at'],\n",
    "                                       jsonString['full_text'].replace('\\n', ' ')]  \n",
    "                            \n",
    "                            max_id = jsonString['id'] + 1\n",
    "                            writer.writerow(csv_row)\n",
    "                        print(\"Going to sleep to keep limit to check\")    \n",
    "                        time.sleep(3)\n",
    "                        print(\"Waking Up\")\n",
    "                print(\"*************No more data to exact.*************\")\n",
    "        except tweepy.TweepError as e:\n",
    "            print(\"Some error!!:\"+str(e))"
   ]
  },
  {
   "cell_type": "code",
   "execution_count": 14,
   "metadata": {},
   "outputs": [
    {
     "name": "stdout",
     "output_type": "stream",
     "text": [
      "max_id 1239199858478596096\n",
      "loop count 1\n",
      "Going to sleep to keep limit to check\n",
      "Waking Up\n",
      "loop count 1\n",
      "Going to sleep to keep limit to check\n",
      "Waking Up\n",
      "loop count 1\n",
      "Going to sleep to keep limit to check\n",
      "Waking Up\n",
      "loop count 1\n",
      "Going to sleep to keep limit to check\n",
      "Waking Up\n",
      "loop count 1\n",
      "Going to sleep to keep limit to check\n",
      "Waking Up\n",
      "loop count 1\n",
      "Going to sleep to keep limit to check\n",
      "Waking Up\n",
      "loop count 1\n",
      "Going to sleep to keep limit to check\n",
      "Waking Up\n",
      "*************No more data to exact.*************\n",
      "max_id 1239238512844533760\n",
      "loop count 1\n",
      "Going to sleep to keep limit to check\n",
      "Waking Up\n",
      "loop count 1\n",
      "Going to sleep to keep limit to check\n",
      "Waking Up\n",
      "loop count 1\n",
      "Going to sleep to keep limit to check\n",
      "Waking Up\n",
      "loop count 1\n",
      "Going to sleep to keep limit to check\n",
      "Waking Up\n",
      "loop count 1\n",
      "Going to sleep to keep limit to check\n",
      "Waking Up\n",
      "loop count 1\n",
      "Going to sleep to keep limit to check\n",
      "Waking Up\n",
      "loop count 1\n",
      "Going to sleep to keep limit to check\n",
      "Waking Up\n",
      "loop count 1\n",
      "Going to sleep to keep limit to check\n",
      "Waking Up\n",
      "loop count 1\n",
      "Going to sleep to keep limit to check\n",
      "Waking Up\n",
      "loop count 1\n",
      "Going to sleep to keep limit to check\n",
      "Waking Up\n",
      "loop count 1\n",
      "Going to sleep to keep limit to check\n",
      "Waking Up\n",
      "loop count 1\n",
      "Going to sleep to keep limit to check\n",
      "Waking Up\n",
      "loop count 1\n",
      "Going to sleep to keep limit to check\n",
      "Waking Up\n",
      "loop count 1\n",
      "Going to sleep to keep limit to check\n",
      "Waking Up\n",
      "loop count 1\n",
      "Going to sleep to keep limit to check\n",
      "Waking Up\n",
      "loop count 1\n",
      "Going to sleep to keep limit to check\n",
      "Waking Up\n",
      "*************No more data to exact.*************\n",
      "max_id 1239242302003896322\n",
      "loop count 1\n",
      "Going to sleep to keep limit to check\n",
      "Waking Up\n",
      "loop count 1\n",
      "Going to sleep to keep limit to check\n",
      "Waking Up\n",
      "loop count 1\n",
      "Going to sleep to keep limit to check\n",
      "Waking Up\n",
      "loop count 1\n",
      "Going to sleep to keep limit to check\n",
      "Waking Up\n",
      "loop count 1\n",
      "Going to sleep to keep limit to check\n",
      "Waking Up\n",
      "*************No more data to exact.*************\n"
     ]
    }
   ],
   "source": [
    "search_criteria = ['#NRC','#CAA','#NPR']\n",
    "searchTweetsByHashtag(search_criteria)"
   ]
  },
  {
   "cell_type": "code",
   "execution_count": null,
   "metadata": {},
   "outputs": [],
   "source": []
  }
 ],
 "metadata": {
  "kernelspec": {
   "display_name": "Python 3",
   "language": "python",
   "name": "python3"
  },
  "language_info": {
   "codemirror_mode": {
    "name": "ipython",
    "version": 3
   },
   "file_extension": ".py",
   "mimetype": "text/x-python",
   "name": "python",
   "nbconvert_exporter": "python",
   "pygments_lexer": "ipython3",
   "version": "3.7.4"
  }
 },
 "nbformat": 4,
 "nbformat_minor": 2
}
