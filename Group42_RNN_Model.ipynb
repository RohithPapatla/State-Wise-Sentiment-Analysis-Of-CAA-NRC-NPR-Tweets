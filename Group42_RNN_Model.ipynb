{
  "nbformat": 4,
  "nbformat_minor": 0,
  "metadata": {
    "colab": {
      "name": "RNN_Model.ipynb",
      "provenance": [],
      "collapsed_sections": []
    },
    "kernelspec": {
      "name": "python3",
      "display_name": "Python 3"
    }
  },
  "cells": [
    {
      "cell_type": "code",
      "metadata": {
        "id": "EEho7fd0yOgD",
        "colab_type": "code",
        "outputId": "6557c3f3-3903-4536-ff89-414de11b9b7a",
        "colab": {
          "base_uri": "https://localhost:8080/",
          "height": 34
        }
      },
      "source": [
        "import numpy as np # linear algebra\n",
        "import pandas as pd # data processing, CSV file I/O (e.g. pd.read_csv)\n",
        "\n",
        "from sklearn.feature_extraction.text import CountVectorizer\n",
        "from keras.preprocessing.text import Tokenizer\n",
        "from keras.preprocessing.sequence import pad_sequences\n",
        "from keras.models import Sequential\n",
        "from keras.layers import Dense, Embedding, LSTM, SpatialDropout1D\n",
        "from sklearn.model_selection import train_test_split\n",
        "from keras.utils.np_utils import to_categorical\n",
        "from keras.layers import Dropout\n",
        "from keras.layers import Bidirectional\n",
        "import re"
      ],
      "execution_count": 1,
      "outputs": [
        {
          "output_type": "stream",
          "text": [
            "Using TensorFlow backend.\n"
          ],
          "name": "stderr"
        }
      ]
    },
    {
      "cell_type": "code",
      "metadata": {
        "id": "DKOCtIpDHFgf",
        "colab_type": "code",
        "outputId": "3de404ce-c2ed-4372-a558-ff0f286a8c21",
        "colab": {
          "base_uri": "https://localhost:8080/",
          "height": 122
        }
      },
      "source": [
        "from google.colab import drive\n",
        "drive.mount('/content/drive')"
      ],
      "execution_count": 3,
      "outputs": [
        {
          "output_type": "stream",
          "text": [
            "Go to this URL in a browser: https://accounts.google.com/o/oauth2/auth?client_id=947318989803-6bn6qk8qdgf4n4g3pfee6491hc0brc4i.apps.googleusercontent.com&redirect_uri=urn%3aietf%3awg%3aoauth%3a2.0%3aoob&response_type=code&scope=email%20https%3a%2f%2fwww.googleapis.com%2fauth%2fdocs.test%20https%3a%2f%2fwww.googleapis.com%2fauth%2fdrive%20https%3a%2f%2fwww.googleapis.com%2fauth%2fdrive.photos.readonly%20https%3a%2f%2fwww.googleapis.com%2fauth%2fpeopleapi.readonly\n",
            "\n",
            "Enter your authorization code:\n",
            "··········\n",
            "Mounted at /content/drive\n"
          ],
          "name": "stdout"
        }
      ]
    },
    {
      "cell_type": "code",
      "metadata": {
        "id": "BmoMS5kHyRff",
        "colab_type": "code",
        "outputId": "e653798d-6585-482b-c32e-abd5539e0ad7",
        "colab": {
          "base_uri": "https://localhost:8080/",
          "height": 419
        }
      },
      "source": [
        "data = pd.read_excel('/content/drive/My Drive/IR Project/Labelled_Total_Data.xlsx')\n",
        "data = data[['Tweet','Label']]\n",
        "data\n"
      ],
      "execution_count": 4,
      "outputs": [
        {
          "output_type": "execute_result",
          "data": {
            "text/html": [
              "<div>\n",
              "<style scoped>\n",
              "    .dataframe tbody tr th:only-of-type {\n",
              "        vertical-align: middle;\n",
              "    }\n",
              "\n",
              "    .dataframe tbody tr th {\n",
              "        vertical-align: top;\n",
              "    }\n",
              "\n",
              "    .dataframe thead th {\n",
              "        text-align: right;\n",
              "    }\n",
              "</style>\n",
              "<table border=\"1\" class=\"dataframe\">\n",
              "  <thead>\n",
              "    <tr style=\"text-align: right;\">\n",
              "      <th></th>\n",
              "      <th>Tweet</th>\n",
              "      <th>Label</th>\n",
              "    </tr>\n",
              "  </thead>\n",
              "  <tbody>\n",
              "    <tr>\n",
              "      <th>0</th>\n",
              "      <td>people professing nationalism, patriotism and...</td>\n",
              "      <td>-1.0</td>\n",
              "    </tr>\n",
              "    <tr>\n",
              "      <th>1</th>\n",
              "      <td>this is some kind of serious conspiracy plz d...</td>\n",
              "      <td>1.0</td>\n",
              "    </tr>\n",
              "    <tr>\n",
              "      <th>2</th>\n",
              "      <td>support with caa and nrc</td>\n",
              "      <td>1.0</td>\n",
              "    </tr>\n",
              "    <tr>\n",
              "      <th>3</th>\n",
              "      <td>i understand your emotion, but feel that firi...</td>\n",
              "      <td>0.0</td>\n",
              "    </tr>\n",
              "    <tr>\n",
              "      <th>4</th>\n",
              "      <td>rt most of the muslim who led the riot were b...</td>\n",
              "      <td>1.0</td>\n",
              "    </tr>\n",
              "    <tr>\n",
              "      <th>...</th>\n",
              "      <td>...</td>\n",
              "      <td>...</td>\n",
              "    </tr>\n",
              "    <tr>\n",
              "      <th>4057</th>\n",
              "      <td>can anyone tell the name of the journalist an...</td>\n",
              "      <td>0.0</td>\n",
              "    </tr>\n",
              "    <tr>\n",
              "      <th>4058</th>\n",
              "      <td>none can enter india without a visa issued by...</td>\n",
              "      <td>1.0</td>\n",
              "    </tr>\n",
              "    <tr>\n",
              "      <th>4059</th>\n",
              "      <td>rt right or left, wing are meant to keep u af...</td>\n",
              "      <td>0.0</td>\n",
              "    </tr>\n",
              "    <tr>\n",
              "      <th>4060</th>\n",
              "      <td>right or left, wing are meant to keep u afloa...</td>\n",
              "      <td>0.0</td>\n",
              "    </tr>\n",
              "    <tr>\n",
              "      <th>4061</th>\n",
              "      <td>we have lost some wonderful writers, actors, ...</td>\n",
              "      <td>0.0</td>\n",
              "    </tr>\n",
              "  </tbody>\n",
              "</table>\n",
              "<p>4062 rows × 2 columns</p>\n",
              "</div>"
            ],
            "text/plain": [
              "                                                  Tweet  Label\n",
              "0      people professing nationalism, patriotism and...   -1.0\n",
              "1      this is some kind of serious conspiracy plz d...    1.0\n",
              "2                              support with caa and nrc    1.0\n",
              "3      i understand your emotion, but feel that firi...    0.0\n",
              "4      rt most of the muslim who led the riot were b...    1.0\n",
              "...                                                 ...    ...\n",
              "4057   can anyone tell the name of the journalist an...    0.0\n",
              "4058   none can enter india without a visa issued by...    1.0\n",
              "4059   rt right or left, wing are meant to keep u af...    0.0\n",
              "4060   right or left, wing are meant to keep u afloa...    0.0\n",
              "4061   we have lost some wonderful writers, actors, ...    0.0\n",
              "\n",
              "[4062 rows x 2 columns]"
            ]
          },
          "metadata": {
            "tags": []
          },
          "execution_count": 4
        }
      ]
    },
    {
      "cell_type": "code",
      "metadata": {
        "id": "ONnR3KuszST2",
        "colab_type": "code",
        "outputId": "c353a854-cfbe-4232-ca06-7dd94d4e12c6",
        "colab": {
          "base_uri": "https://localhost:8080/",
          "height": 34
        }
      },
      "source": [
        "max_features = 2000\n",
        "tokenizer = Tokenizer(num_words = max_features, split=' ')\n",
        "\n",
        "tokenizer.fit_on_texts(data['Tweet'].values)\n",
        "X = tokenizer.texts_to_sequences(data['Tweet'].values)\n",
        "X = pad_sequences(X)\n",
        "print(\"Dimension of data after text text_to_sequence conversion: \", X.shape)"
      ],
      "execution_count": 9,
      "outputs": [
        {
          "output_type": "stream",
          "text": [
            "Dimension of data after text text_to_sequence conversion:  (4062, 72)\n"
          ],
          "name": "stdout"
        }
      ]
    },
    {
      "cell_type": "code",
      "metadata": {
        "id": "rS6ishQaU5X5",
        "colab_type": "code",
        "colab": {}
      },
      "source": [
        "from sklearn.feature_extraction.text import CountVectorizer\n",
        "def count_vectorizer(data):\n",
        "  tweet_data = data['Tweet']\n",
        "  bow_vectorizer = CountVectorizer(max_df=0.90, min_df=2, max_features=1000, stop_words='english')\n",
        "\n",
        "  # bag-of-words feature matrix\n",
        "  bow = bow_vectorizer.fit_transform(tweet_data)\n",
        "\n",
        "  df_bow = pd.DataFrame(bow.todense())\n",
        "\n",
        "  return df_bow\n",
        "X = count_vectorizer(data)"
      ],
      "execution_count": 0,
      "outputs": []
    },
    {
      "cell_type": "code",
      "metadata": {
        "id": "t_bdTy19ZkU6",
        "colab_type": "code",
        "colab": {
          "base_uri": "https://localhost:8080/",
          "height": 68
        },
        "outputId": "d21ab790-4e4c-4b0b-9794-8ff957a35815"
      },
      "source": [
        "from sklearn.model_selection import train_test_split\n",
        "# Y = pd.get_dummies(data['Label']).values\n",
        "\n",
        "def split_train_test(X, Y):\n",
        "  Y=data[\"Label\"].values\n",
        "  print(Y)\n",
        "  X_train, X_test, Y_train, Y_test = train_test_split(X, Y, test_size = 0.20)\n",
        "  print(\"Dimension of training features and label: \", X_train.shape,Y_train.shape)\n",
        "  print(\"Dimension of testing features and label: \", X_test.shape,Y_test.shape)\n",
        "\n",
        "  return X_train, X_test, Y_train, Y_test\n",
        "\n",
        "Y = data['Label']\n",
        "X_train, X_test, Y_train, Y_test = split_train_test(X, Y)"
      ],
      "execution_count": 6,
      "outputs": [
        {
          "output_type": "stream",
          "text": [
            "[-1.  1.  1. ...  0.  0.  0.]\n",
            "Dimension of training features and label:  (3249, 1000) (3249,)\n",
            "Dimension of testing features and label:  (813, 1000) (813,)\n"
          ],
          "name": "stdout"
        }
      ]
    },
    {
      "cell_type": "code",
      "metadata": {
        "id": "YJ3MULUXVX_E",
        "colab_type": "code",
        "outputId": "afc6dd04-1b3c-468d-fcf6-9c9b7233b732",
        "colab": {
          "base_uri": "https://localhost:8080/",
          "height": 51
        }
      },
      "source": [
        "print(X_train.shape)\n",
        "print(X_test.shape)"
      ],
      "execution_count": 22,
      "outputs": [
        {
          "output_type": "stream",
          "text": [
            "(3249, 72)\n",
            "(813, 72)\n"
          ],
          "name": "stdout"
        }
      ]
    },
    {
      "cell_type": "code",
      "metadata": {
        "id": "zosvZoE_2bZV",
        "colab_type": "code",
        "outputId": "c8d65423-8a2d-4bd7-9bc9-7b3522326fdd",
        "colab": {
          "base_uri": "https://localhost:8080/",
          "height": 34
        }
      },
      "source": [
        "print(X_test.shape)"
      ],
      "execution_count": 0,
      "outputs": [
        {
          "output_type": "stream",
          "text": [
            "(2, 76)\n"
          ],
          "name": "stdout"
        }
      ]
    },
    {
      "cell_type": "code",
      "metadata": {
        "id": "QC1qKzDINADm",
        "colab_type": "code",
        "outputId": "efbb4fea-8d44-4d86-f635-814673086725",
        "colab": {
          "base_uri": "https://localhost:8080/",
          "height": 136
        }
      },
      "source": [
        "print(X_test)"
      ],
      "execution_count": 0,
      "outputs": [
        {
          "output_type": "stream",
          "text": [
            "[[0 0 0 ... 0 0 0]\n",
            " [0 0 0 ... 0 0 0]\n",
            " [0 0 0 ... 0 0 0]\n",
            " ...\n",
            " [0 0 0 ... 0 0 0]\n",
            " [0 0 0 ... 0 0 0]\n",
            " [0 0 0 ... 0 0 0]]\n"
          ],
          "name": "stdout"
        }
      ]
    },
    {
      "cell_type": "code",
      "metadata": {
        "id": "eYXL5cMaziya",
        "colab_type": "code",
        "outputId": "8e87e385-f0cf-47df-c9e7-a12cc1a17324",
        "colab": {
          "base_uri": "https://localhost:8080/",
          "height": 374
        }
      },
      "source": [
        "embed_dim = 128\n",
        "lstm_out = 196\n",
        "\n",
        "model = Sequential()\n",
        "model.add(Embedding(1000, embed_dim, input_length = X_train.shape[1]))\n",
        "model.add(SpatialDropout1D(0.4))\n",
        "model.add(LSTM(lstm_out, dropout=0.2, recurrent_dropout=0.2))\n",
        "model.add(Dense(32, activation = 'softmax'))\n",
        "model.add(Dropout(0.50))\n",
        "model.add(Dense(3, activation='softmax'))\n",
        "model.compile(loss = 'categorical_crossentropy', optimizer='adam', metrics = ['accuracy'])\n",
        "print(model.summary())"
      ],
      "execution_count": 8,
      "outputs": [
        {
          "output_type": "stream",
          "text": [
            "Model: \"sequential_2\"\n",
            "_________________________________________________________________\n",
            "Layer (type)                 Output Shape              Param #   \n",
            "=================================================================\n",
            "embedding_1 (Embedding)      (None, 1000, 128)         128000    \n",
            "_________________________________________________________________\n",
            "spatial_dropout1d_1 (Spatial (None, 1000, 128)         0         \n",
            "_________________________________________________________________\n",
            "lstm_1 (LSTM)                (None, 196)               254800    \n",
            "_________________________________________________________________\n",
            "dense_1 (Dense)              (None, 32)                6304      \n",
            "_________________________________________________________________\n",
            "dropout_1 (Dropout)          (None, 32)                0         \n",
            "_________________________________________________________________\n",
            "dense_2 (Dense)              (None, 3)                 99        \n",
            "=================================================================\n",
            "Total params: 389,203\n",
            "Trainable params: 389,203\n",
            "Non-trainable params: 0\n",
            "_________________________________________________________________\n",
            "None\n"
          ],
          "name": "stdout"
        }
      ]
    },
    {
      "cell_type": "code",
      "metadata": {
        "id": "Vlxr2B4Uz9xO",
        "colab_type": "code",
        "outputId": "c29ee47b-8a5c-4647-e9ce-594057e7fc47",
        "colab": {
          "base_uri": "https://localhost:8080/",
          "height": 289
        }
      },
      "source": [
        "Y_train = pd.get_dummies(Y_train).values\n",
        "Y_test = pd.get_dummies(Y_test).values\n",
        "print(Y_train)\n",
        "print(Y_test)\n",
        "print(X_train.shape,Y_train.shape)\n",
        "print(X_test.shape,Y_test.shape)"
      ],
      "execution_count": 11,
      "outputs": [
        {
          "output_type": "stream",
          "text": [
            "[[0 1 0]\n",
            " [1 0 0]\n",
            " [0 1 0]\n",
            " ...\n",
            " [0 1 0]\n",
            " [0 1 0]\n",
            " [0 1 0]]\n",
            "[[0 1 0]\n",
            " [0 1 0]\n",
            " [0 1 0]\n",
            " ...\n",
            " [0 0 1]\n",
            " [0 1 0]\n",
            " [1 0 0]]\n",
            "(3249, 1000) (3249, 3)\n",
            "(813, 1000) (813, 3)\n"
          ],
          "name": "stdout"
        }
      ]
    },
    {
      "cell_type": "code",
      "metadata": {
        "id": "iru6lIW32gtF",
        "colab_type": "code",
        "outputId": "87c3da44-59ab-4201-a758-d700ab87772e",
        "colab": {
          "base_uri": "https://localhost:8080/",
          "height": 428
        }
      },
      "source": [
        "batch_size = 32\n",
        "model.fit(X_train, Y_train, epochs = 10, batch_size=batch_size, verbose = 2)"
      ],
      "execution_count": 12,
      "outputs": [
        {
          "output_type": "stream",
          "text": [
            "/usr/local/lib/python3.6/dist-packages/tensorflow/python/framework/indexed_slices.py:434: UserWarning: Converting sparse IndexedSlices to a dense Tensor of unknown shape. This may consume a large amount of memory.\n",
            "  \"Converting sparse IndexedSlices to a dense Tensor of unknown shape. \"\n"
          ],
          "name": "stderr"
        },
        {
          "output_type": "stream",
          "text": [
            "Epoch 1/10\n",
            " - 292s - loss: 1.0617 - accuracy: 0.4429\n",
            "Epoch 2/10\n",
            " - 293s - loss: 1.0504 - accuracy: 0.4531\n",
            "Epoch 3/10\n",
            " - 292s - loss: 1.0534 - accuracy: 0.4577\n",
            "Epoch 4/10\n",
            " - 290s - loss: 1.0475 - accuracy: 0.4561\n",
            "Epoch 5/10\n",
            " - 283s - loss: 1.0497 - accuracy: 0.4586\n",
            "Epoch 6/10\n",
            " - 282s - loss: 1.0468 - accuracy: 0.4580\n",
            "Epoch 7/10\n",
            " - 283s - loss: 1.0466 - accuracy: 0.4580\n",
            "Epoch 8/10\n",
            " - 283s - loss: 1.0467 - accuracy: 0.4580\n",
            "Epoch 9/10\n",
            " - 286s - loss: 1.0459 - accuracy: 0.4580\n",
            "Epoch 10/10\n",
            " - 288s - loss: 1.0447 - accuracy: 0.4580\n"
          ],
          "name": "stdout"
        },
        {
          "output_type": "execute_result",
          "data": {
            "text/plain": [
              "<keras.callbacks.callbacks.History at 0x7f9a37af3358>"
            ]
          },
          "metadata": {
            "tags": []
          },
          "execution_count": 12
        }
      ]
    },
    {
      "cell_type": "code",
      "metadata": {
        "id": "SYTRD4KQ2nOs",
        "colab_type": "code",
        "outputId": "b9e2af53-0e49-4c04-b29b-8f0a07f8ecc1",
        "colab": {
          "base_uri": "https://localhost:8080/",
          "height": 187
        }
      },
      "source": [
        "validation_size = 100\n",
        "\n",
        "print(X_test.shape)\n",
        "print(Y_test.shape)\n",
        "\n",
        "#X_validate = X_test[-validation_size:]\n",
        "#Y_validate = Y_test[-validation_size:]\n",
        "#X_test = X_test[:-validation_size]\n",
        "#Y_test = Y_test[:-validation_size]\n",
        "\n",
        "score,acc = model.evaluate(X_test, Y_test, verbose = 2, batch_size = batch_size)\n",
        "result = model.predict(X_test)\n",
        "print(\"acc: %.2f\" % (acc))\n",
        "print(result)"
      ],
      "execution_count": 13,
      "outputs": [
        {
          "output_type": "stream",
          "text": [
            "(813, 1000)\n",
            "(813, 3)\n",
            "acc: 0.46\n",
            "[[0.19632581 0.43993142 0.36374283]\n",
            " [0.19632578 0.4399314  0.36374283]\n",
            " [0.19632578 0.43993142 0.36374283]\n",
            " ...\n",
            " [0.1963258  0.43993142 0.36374283]\n",
            " [0.19632578 0.4399314  0.36374283]\n",
            " [0.19632578 0.4399314  0.36374283]]\n"
          ],
          "name": "stdout"
        }
      ]
    },
    {
      "cell_type": "code",
      "metadata": {
        "id": "hVCu11BNaAfF",
        "colab_type": "code",
        "outputId": "42a563bb-f597-4477-a4ba-8bdf9131091e",
        "colab": {
          "base_uri": "https://localhost:8080/",
          "height": 51
        }
      },
      "source": [
        "print(type(result))\n",
        "print(result.shape)"
      ],
      "execution_count": 16,
      "outputs": [
        {
          "output_type": "stream",
          "text": [
            "<class 'numpy.ndarray'>\n",
            "(813, 3)\n"
          ],
          "name": "stdout"
        }
      ]
    },
    {
      "cell_type": "code",
      "metadata": {
        "id": "KErm8n2K3vCL",
        "colab_type": "code",
        "outputId": "685acc4f-91c6-4343-87ef-8c552d006bfa",
        "colab": {
          "base_uri": "https://localhost:8080/",
          "height": 68
        }
      },
      "source": [
        "pos_cnt, neg_cnt, pos_correct, neg_correct = 0, 0, 0, 0\n",
        "test_predictions = []\n",
        "corr_count = 0\n",
        "for x in range(len(X_test)):\n",
        "    \n",
        "    result = model.predict(X_test[x].reshape(1,X_test.shape[1]),batch_size=1,verbose = 2)[0]\n",
        "    max_index1 = np.argmax(result)\n",
        "    max_index2 = np.argmax(Y_test[x])\n",
        "    if max_index1 == max_index2:\n",
        "      corr_count += 1\n",
        "\n",
        "    \n",
        "    if max_index1==0:\n",
        "      test_predictions.append(-1)\n",
        "    elif max_index1==1:\n",
        "      test_predictions.append(0)\n",
        "    else:\n",
        "      test_predictions.append(1)\n",
        "    \n",
        "    if np.argmax(result) == np.argmax(Y_test[x]):\n",
        "        if np.argmax(Y_test[x]) == 0:\n",
        "            neg_correct += 1\n",
        "        else:\n",
        "            pos_correct += 1\n",
        "       \n",
        "    if np.argmax(Y_test[x]) == 0:\n",
        "        neg_cnt += 1\n",
        "    else:\n",
        "        pos_cnt += 1\n",
        "\n",
        "accuracy = corr_count/len(Y_test)\n",
        "print(\"Accuracy of the RNN model: \", accuracy)\n",
        "\n",
        "\n",
        "print(\"pos_acc\", pos_correct/pos_cnt*100, \"%\")\n",
        "print(\"neg_acc\", neg_correct/neg_cnt*100, \"%\")"
      ],
      "execution_count": 21,
      "outputs": [
        {
          "output_type": "stream",
          "text": [
            "Accuracy of the RNN model:  0.5990159901599016\n",
            "pos_acc 62.14177978883861 %\n",
            "neg_acc 50.0 %\n"
          ],
          "name": "stdout"
        }
      ]
    }
  ]
}