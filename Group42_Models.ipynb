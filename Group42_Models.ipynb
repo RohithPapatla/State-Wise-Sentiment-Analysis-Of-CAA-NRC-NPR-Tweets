{
 "cells": [
  {
   "cell_type": "markdown",
   "metadata": {
    "colab_type": "text",
    "id": "Ca3EuzGTjSV-"
   },
   "source": [
    "# Import the Libraries"
   ]
  },
  {
   "cell_type": "code",
   "execution_count": 1,
   "metadata": {
    "colab": {
     "base_uri": "https://localhost:8080/",
     "height": 34
    },
    "colab_type": "code",
    "id": "9Qf8d6HVjHn6",
    "outputId": "243c1534-7c84-418d-d9c7-bb1ab0082bc3"
   },
   "outputs": [
    {
     "name": "stderr",
     "output_type": "stream",
     "text": [
      "Using TensorFlow backend.\n"
     ]
    }
   ],
   "source": [
    "from sklearn.feature_extraction.text import CountVectorizer\n",
    "from keras.preprocessing.text import Tokenizer\n",
    "from keras.preprocessing.sequence import pad_sequences"
   ]
  },
  {
   "cell_type": "code",
   "execution_count": 3,
   "metadata": {
    "colab": {
     "base_uri": "https://localhost:8080/",
     "height": 122
    },
    "colab_type": "code",
    "id": "-MYb0Vsb1eZP",
    "outputId": "0e0408b5-9102-4b6c-cfec-a481a1a3c477"
   },
   "outputs": [
    {
     "name": "stdout",
     "output_type": "stream",
     "text": [
      "Go to this URL in a browser: https://accounts.google.com/o/oauth2/auth?client_id=947318989803-6bn6qk8qdgf4n4g3pfee6491hc0brc4i.apps.googleusercontent.com&redirect_uri=urn%3aietf%3awg%3aoauth%3a2.0%3aoob&response_type=code&scope=email%20https%3a%2f%2fwww.googleapis.com%2fauth%2fdocs.test%20https%3a%2f%2fwww.googleapis.com%2fauth%2fdrive%20https%3a%2f%2fwww.googleapis.com%2fauth%2fdrive.photos.readonly%20https%3a%2f%2fwww.googleapis.com%2fauth%2fpeopleapi.readonly\n",
      "\n",
      "Enter your authorization code:\n",
      "··········\n",
      "Mounted at /content/drive\n"
     ]
    }
   ],
   "source": [
    "from google.colab import drive\n",
    "drive.mount('/content/drive')"
   ]
  },
  {
   "cell_type": "code",
   "execution_count": 2,
   "metadata": {
    "colab": {
     "base_uri": "https://localhost:8080/",
     "height": 255
    },
    "colab_type": "code",
    "id": "z0IK2zy40f_L",
    "outputId": "cba9c74e-2465-4c51-960d-99d1da2e7613"
   },
   "outputs": [
    {
     "name": "stdout",
     "output_type": "stream",
     "text": [
      "                                                  Tweet  Label\n",
      "0      people professing nationalism, patriotism and...   -1.0\n",
      "1      this is some kind of serious conspiracy plz d...    1.0\n",
      "2                              support with caa and nrc    1.0\n",
      "3      i understand your emotion, but feel that firi...    0.0\n",
      "4      rt most of the muslim who led the riot were b...    1.0\n",
      "...                                                 ...    ...\n",
      "4057   can anyone tell the name of the journalist an...    0.0\n",
      "4058   none can enter india without a visa issued by...    1.0\n",
      "4059   rt right or left, wing are meant to keep u af...    0.0\n",
      "4060   right or left, wing are meant to keep u afloa...    0.0\n",
      "4061   we have lost some wonderful writers, actors, ...    0.0\n",
      "\n",
      "[4062 rows x 2 columns]\n"
     ]
    }
   ],
   "source": [
    "# Read the Labelled dataset\n",
    "\n",
    "import pandas as pd\n",
    "data = pd.read_excel('/content/drive/My Drive/Labelled_Total_Data.xlsx')\n",
    "data = data[['Tweet','Label']]\n",
    "print(data)"
   ]
  },
  {
   "cell_type": "code",
   "execution_count": 0,
   "metadata": {
    "colab": {},
    "colab_type": "code",
    "id": "4cPe8BfBkEwk"
   },
   "outputs": [],
   "source": [
    "data.isnull().any()\n",
    "data.fillna(0, inplace=True)"
   ]
  },
  {
   "cell_type": "markdown",
   "metadata": {},
   "source": [
    "# Encode the Words"
   ]
  },
  {
   "cell_type": "code",
   "execution_count": 4,
   "metadata": {
    "colab": {
     "base_uri": "https://localhost:8080/",
     "height": 34
    },
    "colab_type": "code",
    "id": "4p7ezODH0f_h",
    "outputId": "5a41082b-9a94-48e3-c64c-159d2964620f"
   },
   "outputs": [
    {
     "name": "stdout",
     "output_type": "stream",
     "text": [
      "Dimension of the input data after text_to_sequence method:  (4062, 72)\n"
     ]
    }
   ],
   "source": [
    "# Convert the text data into sequence using text_to_sequence method\n",
    "\n",
    "def text2seq(data):\n",
    "    max_fatures = 2000\n",
    "    tokenizer = Tokenizer(num_words = max_fatures, split=' ')\n",
    "    tokenizer.fit_on_texts(data['Tweet'].values)\n",
    "    X = tokenizer.texts_to_sequences(data['Tweet'].values)\n",
    "    X = pad_sequences(X)\n",
    "    return X\n",
    "\n",
    "X = text2seq(data)\n",
    "print(\"Dimension of the input data after text_to_sequence method: \", X.shape)"
   ]
  },
  {
   "cell_type": "code",
   "execution_count": 5,
   "metadata": {
    "colab": {
     "base_uri": "https://localhost:8080/",
     "height": 419
    },
    "colab_type": "code",
    "id": "wIktcJDcnb25",
    "outputId": "5ea17757-e161-4003-d0dc-5c69e78aa995"
   },
   "outputs": [
    {
     "data": {
      "text/html": [
       "<div>\n",
       "<style scoped>\n",
       "    .dataframe tbody tr th:only-of-type {\n",
       "        vertical-align: middle;\n",
       "    }\n",
       "\n",
       "    .dataframe tbody tr th {\n",
       "        vertical-align: top;\n",
       "    }\n",
       "\n",
       "    .dataframe thead th {\n",
       "        text-align: right;\n",
       "    }\n",
       "</style>\n",
       "<table border=\"1\" class=\"dataframe\">\n",
       "  <thead>\n",
       "    <tr style=\"text-align: right;\">\n",
       "      <th></th>\n",
       "      <th>Tweet</th>\n",
       "      <th>Label</th>\n",
       "    </tr>\n",
       "  </thead>\n",
       "  <tbody>\n",
       "    <tr>\n",
       "      <th>0</th>\n",
       "      <td>people professing nationalism, patriotism and...</td>\n",
       "      <td>-1.0</td>\n",
       "    </tr>\n",
       "    <tr>\n",
       "      <th>1</th>\n",
       "      <td>this is some kind of serious conspiracy plz d...</td>\n",
       "      <td>1.0</td>\n",
       "    </tr>\n",
       "    <tr>\n",
       "      <th>2</th>\n",
       "      <td>support with caa and nrc</td>\n",
       "      <td>1.0</td>\n",
       "    </tr>\n",
       "    <tr>\n",
       "      <th>3</th>\n",
       "      <td>i understand your emotion, but feel that firi...</td>\n",
       "      <td>0.0</td>\n",
       "    </tr>\n",
       "    <tr>\n",
       "      <th>4</th>\n",
       "      <td>rt most of the muslim who led the riot were b...</td>\n",
       "      <td>1.0</td>\n",
       "    </tr>\n",
       "    <tr>\n",
       "      <th>...</th>\n",
       "      <td>...</td>\n",
       "      <td>...</td>\n",
       "    </tr>\n",
       "    <tr>\n",
       "      <th>4057</th>\n",
       "      <td>can anyone tell the name of the journalist an...</td>\n",
       "      <td>0.0</td>\n",
       "    </tr>\n",
       "    <tr>\n",
       "      <th>4058</th>\n",
       "      <td>none can enter india without a visa issued by...</td>\n",
       "      <td>1.0</td>\n",
       "    </tr>\n",
       "    <tr>\n",
       "      <th>4059</th>\n",
       "      <td>rt right or left, wing are meant to keep u af...</td>\n",
       "      <td>0.0</td>\n",
       "    </tr>\n",
       "    <tr>\n",
       "      <th>4060</th>\n",
       "      <td>right or left, wing are meant to keep u afloa...</td>\n",
       "      <td>0.0</td>\n",
       "    </tr>\n",
       "    <tr>\n",
       "      <th>4061</th>\n",
       "      <td>we have lost some wonderful writers, actors, ...</td>\n",
       "      <td>0.0</td>\n",
       "    </tr>\n",
       "  </tbody>\n",
       "</table>\n",
       "<p>4062 rows × 2 columns</p>\n",
       "</div>"
      ],
      "text/plain": [
       "                                                  Tweet  Label\n",
       "0      people professing nationalism, patriotism and...   -1.0\n",
       "1      this is some kind of serious conspiracy plz d...    1.0\n",
       "2                              support with caa and nrc    1.0\n",
       "3      i understand your emotion, but feel that firi...    0.0\n",
       "4      rt most of the muslim who led the riot were b...    1.0\n",
       "...                                                 ...    ...\n",
       "4057   can anyone tell the name of the journalist an...    0.0\n",
       "4058   none can enter india without a visa issued by...    1.0\n",
       "4059   rt right or left, wing are meant to keep u af...    0.0\n",
       "4060   right or left, wing are meant to keep u afloa...    0.0\n",
       "4061   we have lost some wonderful writers, actors, ...    0.0\n",
       "\n",
       "[4062 rows x 2 columns]"
      ]
     },
     "execution_count": 5,
     "metadata": {
      "tags": []
     },
     "output_type": "execute_result"
    }
   ],
   "source": [
    "data"
   ]
  },
  {
   "cell_type": "code",
   "execution_count": 6,
   "metadata": {
    "colab": {
     "base_uri": "https://localhost:8080/",
     "height": 71
    },
    "colab_type": "code",
    "id": "FVcJBnZOCtQx",
    "outputId": "bb7bd759-b5df-4b34-a84c-283937f8101f"
   },
   "outputs": [
    {
     "name": "stdout",
     "output_type": "stream",
     "text": [
      "['000', '02', '10', '100', '1000', '100th', '1020', '10th', '10years', '10yrs', '11', '11000', '115', '115cr', '12', '1255', '12monkeys', '12percentreservation', '12th', '13', '133', '139', '14', '1400', '144', '14a', '15', '150', '15cr', '15crore', '15th', '16', '16long', '16yrs', '17', '18', '180', '1881', '19', '1930s', '1931', '193345', '1941', '1946', '194647', '1947', '1948', '1955', '1960', '1970', '1970s', '1971', '1980', '1984', '1985', '1986', '19a', '19b', '19lakh', '1billion', '1first', '1months', '1n', '1oppose', '1st', '1wrong', '20', '200', '2000', '2002', '2003', '2009', '2010', '2012', '2013', '2014', '2014amp', '2014the', '2015', '2016', '2017ðÿ', '2018', '2019', '2019ncov', '201dayskashmirlockdown', '2020', '2020census', '2021', '2021it', '2022', '2023', '2024', '22', '227', '22nd', '23', '23rd', '23ã', '24', '247', '24x7', '25', '26', '2602', '2611', '270', '2753', '27th', '28', '28th', '29', '2anticonversion', '2do', '2months', '2n', '2nd', '2oppose', '2take', '2the', '2then', '2they', '2try', '2what', '30', '300', '3000', '303', '31', '32nd', '33', '34', '35', '350', '35a', '37', '370', '38', '39', '3caa', '3d', '3details', '3n', '3ple', '3rd', '3then', '40', '400', '42', '425', '43', '44', '45', '450', '47', '475', '476', '48', '496', '4ankit', '4g', '4marchjantarmantarrally', '4n', '4th', '4verification', '50', '5000', '50s', '52', '532', '56', '5th', '5yrs', '60', '6370', '69', '70', '71', '72', '73', '75', '77', '80', '8000', '85', '8866288662', '8th', '90', '906', '907', '91', '911', '93rd', '98', '98000', '99', '9x', 'a11', 'a14', 'a5', 'aa', 'aadhaar', 'aadhaarcard', 'aadhaars', 'aadhar', 'aadharcard', 'aadharcards', 'aadivasi', 'aag', 'aage', 'aah', 'aajadi', 'aaka', 'aakar', 'aakhir', 'aamaadmiparty', 'aamadmi', 'aandolan', 'aap', 'aapdelhiriottruth', 'aapists', 'aapketerrorists', 'aapki', 'aapà', 'aapã', 'aarnoiannay', 'aata', 'aatankiyo', 'aaya', 'ab', 'abandon', 'abb', 'abc', 'abcnews', 'abdali', 'abducted', 'abdul', 'abetted', 'abhi', 'abhiyan', 'abide', 'ability', 'ablaze', 'able', 'abolish', 'abortion', 'about', 'above', 'abp', 'abpconclave', 'abrahamic', 'abrahamicfaiths', 'abroad', 'abrogated', 'abrogation', 'abscond', 'absolute', 'absolutely', 'absurd', 'abt', 'abu', 'abuse', 'abusing', 'abusive', 'abv', 'ac', 'academics', 'academy', 'acc', 'acce', 'accept', 'acceptability', 'acceptable', 'acceptance', 'accepted', 'accepting', 'access', 'acche', 'acclaimed', 'accommodated', 'accomodated', 'accomodating', 'accompli', 'accomplices', 'accord', 'according', 'accordingly', 'accordmms', 'account', 'accountable', 'accpet', 'accumulating', 'accurate', 'accusation', 'accuse', 'accused', 'accusing', 'achievable', 'achieve', 'achieved', 'achievement', 'acid', 'acknowledge', 'across', 'act', 'actbill', 'acted', 'acting', 'action', 'activated', 'active', 'actively', 'activism', 'activist', 'activists', 'activistso', 'activits', 'activity', 'actl', 'actor', 'actors', 'actpart', 'actress', 'actual', 'actually', 'ad', 'adarniya', 'add', 'added', 'adding', 'additional', 'address', 'addressed', 'addressing', 'adequate', 'adhar', 'adharmic', 'adivasis', 'adjoining', 'adjust', 'admin', 'administration', 'administrative', 'admirable', 'admire', 'admires', 'admission', 'admit', 'admitting', 'admk', 'adolf', 'adopted', 'adoption', 'adore', 'adult', 'adv', 'advance', 'advanta', 'advantage', 'adverse', 'advice', 'advise', 'advised', 'advisor', 'advocate', 'ae', 'aecom', 'af', 'afewofmyfavoritethings', 'affair', 'affairs', 'affairsâ', 'affct', 'affect', 'affected', 'affectedwhen', 'affectees', 'affecting', 'affectng', 'affford', 'affiliate', 'affirmative', 'affordable', 'afg', 'afgan', 'afganista', 'afganistan', 'afghan', 'afghani', 'afghanistan', 'afghanistani', 'afloat', 'aforesa', 'afraid', 'afraiding', 'afraids', 'after', 'aftermath', 'aftr', 'ag', 'aga', 'again', 'againand', 'againmoslems', 'agains', 'against', 'againt', 'againts', 'age', 'agency', 'agenda', 'agendadriven', 'agent', 'agglomeration', 'aggravate', 'aggravated', 'aggression', 'aggressive', 'agints', 'agitate', 'agitated', 'agitates', 'agitation', 'agitators', 'ago', 'agony', 'agree', 'agreed', 'agreement', 'agressive', 'agric', 'agriculture', 'ah', 'ahamadiyas', 'ahead', 'ahluwalia', 'ahmadiyas', 'ahmadiyyas', 'ahmedabad', 'ai', 'aided', 'aim', 'aimed', 'aimim', 'aint', 'air', 'aired', 'airmobs', 'aisa', 'aise', 'aiyya', 'aiyyar', 'aj', 'ajeeb', 'ajitdoval', 'ak', 'aka', 'akbaruddin', 'akbaruddinowaisi', 'akhir', 'akhtars', 'al', 'alert', 'alertness', 'alibi', 'alien', 'alienation', 'aligarh', 'aligns', 'alike', 'alimony', 'alive', 'aljazeera', 'all', 'all2', 'allah', 'allahabad', 'allahabadhighcourt', 'allahaâ', 'allegation', 'allege', 'alleged', 'allegedly', 'allegiance', 'alleging', 'allocated', 'allow', 'allowed', 'allowing', 'allows', 'ally', 'almos', 'almost', 'alone', 'along', 'alrea', 'already', 'alright', 'also', 'altafhossain', 'altered', 'alternate', 'alternative', 'alu', 'always', 'alwsys', 'am', 'aman', 'amanatulla', 'amanatullah', 'amazed', 'amazing', 'amazingly', 'ambedkar', 'ambit', 'ambition', 'ambitious', 'ambushed', 'amd', 'amend', 'amended', 'amending', 'amendment', 'amendmentâ', 'amends', 'amera', 'america', 'american', 'americans', 'ami', 'amid', 'amidst', 'amit', 'amitsha', 'amitshah', 'amitshahmustresign', 'amitshahresign', 'ammendment', 'among', 'amongst', 'amount', 'amp', 'ampamp', 'ampcitizenship', 'ampdidnt', 'amplifying', 'amplower', 'amply', 'amponly', 'ampor', 'ampthe', 'amu', 'amuliyaleona', 'amulya', 'amulyaleona', 'an', 'analysis', 'ananyapandayvijaydeverakonda', 'anarchist', 'anarchy', 'ancestor', 'ancestors', 'anchor', 'and', 'andh', 'andhbhakts', 'andhra', 'andolans', 'andor', 'andrew', 'angelinajolie', 'anger', 'angkorwat', 'angle', 'angry', 'angst', 'anguish', 'anil', 'animal', 'ankit', 'ankitsharma', 'annathe', 'announce', 'announced', 'annual', 'annum', 'anointed', 'anonymous', 'another', 'answer', 'answered', 'answerme', 'antcaa', 'anthem', 'anti', 'anticaa', 'anticaaprotest', 'anticaaprotests', 'anticipated', 'anticonstitutional', 'anticonversion', 'antidemocracy', 'antihindu', 'antihinduriot', 'antiimmigrant', 'antiindia', 'antimodi', 'antimuslim', 'antimuslims', 'antination', 'antinationa', 'antinational', 'antinationals', 'antinationasts', 'antinrc', 'antipoor', 'antiprotestors', 'antireligeousconversion', 'antisemitism', 'antonio', 'antonioguterres', 'anty', 'antã³nio', 'anurag', 'anuragkashyap', 'anuragthakur', 'any', 'anybody', 'anybodys', 'anymore', 'anyone', 'anyones', 'anything', 'anytime', 'anyway', 'anyways', 'anywayt', 'anywhere', 'ap', 'apart', 'apartheid', 'apartheidâ', 'apex', 'apke', 'apolitical', 'apologise', 'apologize', 'apology', 'apolozise', 'app', 'appalling', 'appeal', 'appealed', 'appealing', 'appear', 'appears', 'appease', 'appeased', 'appeasement', 'appeasing', 'apple', 'applicable', 'application', 'applied', 'applies', 'apply', 'applying', 'appoint', 'appointed', 'appointment', 'appoints', 'appose', 'apposed', 'appr', 'appraise', 'appreciate', 'appreciates', 'appreciati', 'appreciation', 'apprehension', 'approach', 'approaching', 'appropriate', 'approval', 'approved', 'apr', 'april', 'apt', 'aptly', 'aquired', 'ar', 'arabia', 'arabic', 'arbitrary', 'arbitrate', 'archana', 'architect', 'ardent', 'ardra', 'are', 'area', 'areey', 'aren', 'arent', 'arequestpakpm', 'arfa', 'argue', 'arguing', 'argument', 'argumentative', 'arm', 'armed', 'armenia', 'arming', 'army', 'armya', 'arnab', 'arnabzee', 'around', 'arr', 'arrange', 'arrangement', 'arranging', 'arrest', 'arrested', 'arresting', 'arrestkapilmishra', 'arrestsoni', 'arrestsoniagandh', 'arrestsoniagandhi', 'arrestswarabhaskar', 'arrestswarabhasker', 'arresttahirhussain', 'arrestterroristkapilmishra', 'arrived', 'arse', 'arson', 'arsoning', 'arsonist', 'arsonscufflesone', 'art', 'art370', 'arthaculturefeast', 'arthfestival', 'artical370', 'articke', 'article', 'article131', 'article14', 'article30', 'article370', 'articles', 'artificial', 'artist', 'arundhatiroy', 'arvind', 'arvindkejriwal', 'aryan', 'as', 'asad', 'asaduddin', 'asaduddinowaisi', 'asaholes', 'asam', 'asap', 'asasuddinowaisi', 'ascertain', 'asgarali', 'ashamed', 'ashfaq', 'ashok', 'asia', 'asiabibi', 'aside', 'asim', 'asimanshi', 'ask', 'asked', 'asking', 'askpmroncaa', 'asks', 'askstar', 'askswara', 'aspect', 'ass', 'assam', 'assamaccord', 'assamese', 'assamnrc', 'assassinated', 'assault', 'assaulted', 'assaulting', 'assembly', 'assert', 'asserted', 'assessed', 'asset', 'asshole', 'assign', 'assimilate', 'assistance', 'assisting', 'associate', 'associated', 'associatescustomers', 'association', 'assumed', 'assumi', 'assuming', 'assumption', 'assur', 'assurance', 'assurances', 'assure', 'assured', 'assures', 'assuring', 'astrologer', 'astute', 'asylum', 'asâ', 'at', 'atheist', 'atiqurrahman', 'atleas', 'atleast', 'atmosphere', 'atol', 'atrocitie', 'atrocity', 'atronger', 'attack', 'attacked', 'attacking', 'attempt', 'attempting', 'attended', 'attention', 'attn', 'attractive', 'attracts', 'attribute', 'auctioneer', 'audi', 'audience', 'audienceswarabhaskar', 'audiovideo', 'aulade', 'auntinational', 'aur', 'aurangzeb', 'author', 'authoritarian', 'authoritative', 'authority', 'authorized', 'automatic', 'automatically', 'avail', 'availability', 'available', 'avenue', 'averted', 'avi', 'avoid', 'avoided', 'awake', 'awaken', 'awam', 'award', 'awarded', 'aware', 'awaren', 'awareness', 'away', 'awayðÿ', 'awesome', 'awful', 'ayodhya', 'ayodhyaverdict', 'ayodyaverdict', 'ayyub', 'aza', 'azaadi', 'azadi', 'ba', 'baag', 'baagh', 'baali', 'baar', 'baat', 'baatexplanation', 'baaton', 'baba', 'babarimasji', 'babarimasjid', 'babarpur', 'babri', 'babu', 'baby', 'bac', 'back', 'backbabri', 'backchodi', 'backdoor', 'backed', 'backer', 'backfoot', 'background', 'backgroundguwahati', 'backing', 'backlash', 'backstage', 'backwards', 'bad', 'badass', 'badhiye', 'badly', 'badshapps', 'baffled', 'bag', 'baggies', 'bagh', 'baghdadi', 'bahini', 'bahujans', 'bahut', 'bahuth', 'bail', 'bakchodi', 'bake', 'bakistan', 'bakiyon', 'balakotairstrike', 'balakotairstrikes', 'balance', 'balanced', 'balancing', 'bali', 'ball', 'ballistic', 'ballot', 'baloch', 'ban', 'banana', 'banao', 'bandh', 'bandwagon', 'banerjee', 'bangabandhu', 'bangaladeshi', 'bangla', 'bangladesh', 'bangladeshi', 'bangladeshis', 'bangladesi', 'baniya', 'baniyas', 'bank', 'bankrupt', 'banned', 'bannpr', 'bano', 'bapu', 'bar', 'barbaric', 'barbarism', 'bare', 'barely', 'bari', 'bark', 'barkarar', 'barkha', 'barking', 'barriacaded', 'barriacades', 'barriacded', 'barring', 'barrresign', 'bars', 'base', 'based', 'baseless', 'bash', 'bashing', 'basic', 'basically', 'basis', 'bastad', 'bastard', 'bastds', 'basterds', 'batch', 'bath', 'batla', 'battle', 'baudh', 'baug', 'bbc', 'bbcnews', 'bc', 'bcci', 'bcos', 'bcoz', 'bcz', 'bd', 'bdeshi', 'be', 'beacuse', 'bear', 'bearer', 'bearing', 'beat', 'beaten', 'beatenshot', 'beating', 'beautiful', 'beauty', 'bec', 'became', 'because', 'becaz', 'become', 'becomes', 'becoming', 'becouse', 'becoz', 'bedizened', 'bee', 'beef', 'been', 'befitting', 'before', 'beforejustice', 'beggar', 'begging', 'begin', 'beginning', 'begum', 'begun', 'behalf', 'behave', 'behaved', 'behaving', 'behavior', 'behaviour', 'behi', 'behin', 'behind', 'behna', 'bei', 'being', 'beinghuman', 'beirut', 'beizzat', 'bekaar', 'belgium', 'belief', 'believ', 'believe', 'believed', 'believer', 'believing', 'belive', 'belived', 'belong', 'belonging', 'belongingness', 'belongs', 'beloves', 'below', 'bench', 'benchmark', 'beneficiary', 'benefit', 'bengal', 'bengali', 'bengaluru', 'bengalwelcomesamitshah', 'benifts', 'benign', 'benito', 'bent', 'berate', 'berated', 'bereived', 'bernie', 'berniesanders', 'besides', 'best', 'bet', 'beta', 'betraying', 'bett', 'better', 'between', 'beware', 'beyond', 'bf', 'bg', 'bgl', 'bhadawagiri', 'bhadhralok', 'bhadkaojantaparty', 'bhai', 'bhailog', 'bhais', 'bhajanpura', 'bhajrandal', 'bhakt', 'bhakts', 'bhand', 'bhar', 'bharamati', 'bharat', 'bharath', 'bharatjalaoparty', 'bharatmatakijai', 'bharatsayyestonpr', 'bhartiya', 'bhasan', 'bhaskar', 'bhasker', 'bhavan', 'bhi', 'bhikhari', 'bhimarmychief', 'bhimrao', 'bhoi', 'bhramhashtra', 'bhrushtjoothipatit', 'bhubaneshwar', 'bhubaneswar', 'bi', 'bias', 'biased', 'biasedmedia', 'biden', 'bidens', 'big', 'biggbossfinale', 'bigger', 'biggest', 'bigjholjhalparty', 'bignning', 'bigot', 'bigoted', 'bigotry', 'bigotrywe', 'bigotryâ', 'bihar', 'biharassembly', 'bihari', 'bijli', 'bikau', 'bikaurubika', 'bike', 'bill', 'billcosbys', 'billion', 'billowed', 'bills', 'billy', 'billywoodiyas', 'bimakoregoan', 'bin', 'binding', 'bio', 'birding', 'biriyani', 'birth', 'birthday', 'biryani', 'biscuit', 'bit', 'bitch', 'bitter', 'bjp', 'bjpmodi', 'bjps', 'bjpsedeshbachaoo', 'bla', 'blabbering', 'black', 'blacklivesmatter', 'blackmail', 'blackmailer', 'blackmailing', 'blackout', 'blame', 'blamed', 'blaming', 'blasphemy', 'blast', 'blastswe', 'blatant', 'blatantly', 'bleed', 'bleeding', 'blending', 'blessed', 'blew', 'blind', 'blindfolded', 'blindly', 'blinked', 'blk', 'block', 'blockade', 'blockage', 'blocked', 'blocking', 'blocling', 'blood', 'bloodshed', 'bloody', 'bloomberg', 'bloombergfirstword', 'bloombergsurveillance', 'blooming', 'blot', 'blow', 'blowing', 'blue', 'blueberry', 'bluff', 'blunder', 'blunderousjugglersparty', 'bmw', 'bn', 'bnd', 'bo', 'board', 'boardexams', 'boardgames', 'boast', 'bocz', 'bodh', 'body', 'bogus', 'boil', 'boiling', 'bol', 'bola', 'boldo', 'bole', 'bolenge', 'bollywood', 'bolo', 'bolt', 'boltibandh', 'bomb', 'bombs', 'bonafide', 'bone', 'bonhomie', 'book', 'booked', 'booth', 'bootlegger', 'border', 'bordering', 'bordersâ', 'borderwall', 'boring', 'boris', 'borisjohnson', 'born', 'bos', 'bostonarea', 'both', 'bother', 'botherand', 'bothered', 'bottom', 'bought', 'bound', 'boundary', 'bow', 'boy', 'boycot', 'boycoting', 'boycott', 'boycottfilmfare', 'boycottincometax', 'boycotting', 'boycottmirchisayema', 'boycottmuslim', 'boycottradiomirchi', 'boycottthappad', 'bpcl', 'brahamstra', 'brahmin', 'brahmins', 'brain', 'brainchild', 'brainless', 'brainwash', 'brainwashed', 'brainwashing', 'branch', 'brand', 'branded', 'brave', 'bravo', 'bread', 'break', 'breaking', 'breakingindia', 'breath', 'breed', 'breeding', 'brethernyour', 'bri', 'brick', 'brief', 'brigade', 'bright', 'brilliance', 'brilliant', 'brilliantly', 'bring', 'bringamend', 'bringing', 'brings', 'brit', 'british', 'britishparliament', 'briyani', 'bro', 'broadcast', 'broke', 'broker', 'bromance', 'broth', 'brother', 'brotherhood', 'brothern', 'brothers', 'brought', 'brouhaha', 'browbeating', 'brown', 'brutal', 'brutalising', 'brutality', 'brutalized', 'brutally', 'bsp', 'bt', 'btw', 'bu', 'bubble', 'buck', 'buckle', 'buddhist', 'buddhists', 'buddist', 'budge', 'budget', 'budhist', 'budhists', 'buffoon', 'bugle', 'build', 'building', 'buildings', 'built', 'bujhane', 'bulldoze', 'bullet', 'bullets', 'bullshit', 'bullshiting', 'bullying', 'bulshit', 'bunch', 'bund', 'bunk', 'burden', 'burhan', 'buried', 'burkha', 'burn', 'burned', 'burning', 'burningcaa', 'burnt', 'burst', 'bus', 'buses', 'busines', 'business', 'busy', 'busybody', 'but', 'butcher', 'butchered', 'butnpr', 'buttock', 'button', 'buying', 'bw', 'bwahahahahaha', 'by', 'bycott', 'bycottincometax', 'bycottthappad', 'bypassing', 'byte', 'byy', 'ca', 'caa', 'caa2019', 'caa2019in', 'caaand', 'caaas', 'caabollywood', 'caacaa2019', 'caadelhiviolence', 'caahe', 'caaim', 'caanarendramodi', 'caano', 'caanprnrc', 'caanrc', 'caanrccaa', 'caanrcnpr', 'caanrcnprprotests', 'caanrcnprã', 'caanrcpr', 'caanrcprote', 'caanrcprotest', 'caanrcprotests', 'caanrcsup', 'caanrcsupport', 'caaor', 'caaplease', 'caaprotest', 'caaprotesters', 'caaprotests', 'caariots', 'caas', 'caasupport', 'caathen', 'caawhy', 'caayou', 'caazindabad', 'caaâ', 'caaðÿ', 'cab', 'cabal', 'cabbill', 'cabbill2019', 'cabinet', 'cader', 'cake', 'calamity', 'calcutta', 'call', 'called', 'calling', 'calm', 'calmness', 'calumny', 'cam', 'cambodia', 'came', 'camouflaged', 'camp', 'campaign', 'can', 'cana', 'canada', 'canard', 'cancel', 'cancelled', 'cancer', 'cancerous', 'candidate', 'cannon', 'cannot', 'cannt', 'cant', 'caosistheladder', 'cap', 'capable', 'capicity', 'capital', 'capitalu', 'captamarinder', 'captured', 'car', 'carcass', 'card', 'cardsâ', 'care', 'career', 'careful', 'carefully', 'carelessactoractivist', 'caring', 'carolineflack', 'carried', 'carrier', 'carry', 'carrying', 'carved', 'case', 'cast', 'caste', 'casted', 'castesim', 'castfuture', 'castist', 'casualty', 'catalyst', 'catch', 'category', 'caught', 'cause', 'caused', 'causing', 'cbb', 'cbc', 'cbs', 'cbse', 'cbsnews', 'cc', 'cca', 'cd', 'cease', 'ceased', 'ceiling', 'celebrate', 'celebrating', 'celebration', 'celebrity', 'celebs', 'cell', 'cellotaped', 'cencus', 'census', 'census2020', 'census2021', 'censusindia2021', 'centenary', 'center', 'central', 'centre', 'centred', 'ceo', 'ceremony', 'cert', 'certain', 'certainly', 'certificate', 'certsin', 'cesspool', 'cfc', 'ch', 'chaahte', 'chaihe', 'chain', 'chainsaw', 'chairman', 'chaiwala', 'chaiye', 'chale', 'chalega', 'challenge', 'challenged', 'challenges', 'challenging', 'chalo', 'chalodelhi', 'chaltabhai', 'chaltey', 'chamchas', 'chameleon', 'champion', 'chance', 'chancellor', 'chandbagh', 'chandrashekharazad', 'change', 'changed', 'changing', 'channel', 'channelwho', 'chant', 'chanting', 'chaos', 'charged', 'charisma', 'charsi', 'chase', 'chased', 'chat', 'chattisgarh', 'chaura', 'chauri', 'cheap', 'cheating', 'check', 'checked', 'checking', 'cheed', 'cheering', 'cheerleader', 'chemo', 'chennai', 'cherished', 'cherry', 'chest', 'chetichaand', 'chhakkajaam', 'chicago', 'chicken', 'chidu', 'chief', 'child', 'children', 'childrens', 'childrenwhat', 'chill', 'china', 'chintu', 'chirpy', 'chng', 'choice', 'chola', 'choose', 'choosing', 'chor', 'chose', 'chosen', 'chowkidaarchorhai', 'chowkidars', 'chowkodar', 'chri', 'christain', 'christian', 'christianity', 'christians', 'chritianity', 'chronologi', 'chronology', 'chronologysamajhiye', 'chuc', 'church', 'churchbacked', 'chuslims', 'chutiya', 'ci', 'cine', 'cinema', 'cipla', 'circulated', 'circumvents', 'circus', 'cited', 'citi', 'citiz', 'citizen', 'citizenry', 'citizens', 'citizensh', 'citizenshi', 'citizenship', 'citizenshipamendmentact', 'citizenshipof', 'citizenshipâ', 'citizensnrc', 'city', 'citz', 'civic', 'civil', 'civilian', 'civilization', 'civilizational', 'civilized', 'cjibobde', 'ck', 'claim', 'claimed', 'claimedwhat', 'claiming', 'clarification', 'clarified', 'clarifies', 'clarify', 'clarity', 'clash', 'clashes', 'class', 'classic', 'classification', 'classâ', 'clause', 'cle', 'clean', 'cleaning', 'cleansing', 'clear', 'cleared', 'clearly', 'clerics', 'clever', 'climb', 'clinch', 'cloraforming', 'closed', 'closer', 'clothes', 'clown', 'club', 'clue', 'cluster', 'cm', 'cmts', 'cnbc', 'cnn', 'co', 'coalition', 'coat', 'coating', 'cobbled', 'cochair', 'cocktail', 'code', 'codeðÿ', 'coexist', 'coexistence', 'coffee', 'coffin', 'cofined', 'cognisance', 'cognizance', 'cohort', 'coin', 'coincidence', 'cold', 'collapse', 'collea', 'colleague', 'collec', 'collect', 'collected', 'collecting', 'collective', 'collectively', 'college', 'collegebasketball', 'collided', 'colony', 'color', 'colour', 'column', 'com', 'comb', 'combinati', 'combination', 'combined', 'combining', 'come', 'comedian', 'comedians', 'comfort', 'comfortable', 'comfortably', 'coming', 'comment', 'commentary', 'commentator', 'commenting', 'comments', 'commie', 'comming', 'commit', 'commitment', 'committed', 'committee', 'common', 'commonprajalevel', 'commotion', 'communal', 'communalise', 'communalises', 'communalism', 'communalists', 'communalso', 'communicating', 'communication', 'communism', 'communist', 'communists', 'communities', 'community', 'commute', 'commuting', 'comp', 'companies', 'company', 'companyâ', 'compare', 'compared', 'comparing', 'compass', 'compassion', 'compassionate', 'compassionâ', 'compensation', 'competen', 'competent', 'competitive', 'compl', 'complained', 'complaining', 'complaint', 'complete', 'completely', 'complicit', 'complicity', 'compliment', 'comply', 'composed', 'compounded', 'comprehend', 'comprehension', 'comprehensive', 'compromise', 'compulsion', 'compulsions', 'compulsorily', 'con', 'concentrate', 'concentration', 'concept', 'concern', 'concerned', 'concernteach', 'concert', 'concession', 'concluded', 'conclusion', 'condemn', 'condemnable', 'condemnation', 'condemned', 'condemning', 'condition', 'condolence', 'condoning', 'conduct', 'conducted', 'conducting', 'conduit', 'conf', 'conference', 'confessed', 'confesses', 'confidence', 'confident', 'confining', 'confirm', 'confirmed', 'confirms', 'conflict', 'conflicted', 'confronted', 'confuse', 'confused', 'confusing', 'confusion', 'cong', 'congfornasbandi', 'congis', 'congrats', 'congratulate', 'congratulation', 'congress', 'congressmen', 'congresspart', 'conjunction', 'connaught', 'connection', 'connivence', 'conscience', 'conscious', 'consecutive', 'consensus', 'consequence', 'consequences', 'conservative', 'consider', 'consideration', 'considered', 'considering', 'consistent', 'consolidate', 'consolidating', 'conspiracy', 'conspirator', 'constable', 'constant', 'constantly', 'constit', 'constitu', 'constituency', 'constituent', 'constitute', 'constitution', 'constitutional', 'constitutionalist', 'constitutionally', 'construction', 'consultant', 'consumer', 'contact', 'contain', 'contains', 'contaminate', 'contd', 'content', 'contention', 'contentious', 'context', 'continue', 'continued', 'continues', 'continuing', 'continuosly', 'continuously', 'contituency', 'contradictory', 'contradicts', 'contrary', 'contrast', 'contributed', 'control', 'controlled', 'controlling', 'controversial', 'controversy', 'convenient', 'conveniently', 'conver', 'conversion', 'convert', 'converted', 'convey', 'convicted', 'conviction', 'convince', 'convinced', 'convincedhe', 'convincing', 'convocation', 'cook', 'cooked', 'cool', 'cooperating', 'cooperation', 'coordinated', 'cop', 'coperate', 'copt', 'copy', 'copyright', 'cordoba', 'core', 'coreligionist', 'corner', 'cornered', 'corona', 'coronavirius', 'coronavirus', 'coronavirusoutbreak', 'coronavirusupdate', 'coronavirusupdates', 'coronavirusus', 'corp', 'corporate', 'correct', 'correcting', 'correction', 'corrective', 'corrupt', 'corruption', 'cost', 'costed', 'costly', 'cou', 'could', 'couldn', 'couldnt', 'council', 'counseling', 'count', 'counter', 'counting', 'countless', 'countries', 'country', 'countryman', 'countrystone', 'countrywide', 'county', 'coup', 'couple', 'coupled', 'courage', 'course', 'court', 'courtappointed', 'courtmandated', 'cover', 'coverage', 'covered', 'covering', 'covert', 'covertly', 'covid19', 'cow', 'coward', 'cowvigilantism', 'coz', 'cpi', 'cpim', 'cpm', 'cr', 'crack', 'crackdown', 'cracked', 'crap', 'crash', 'crazy', 'creat', 'create', 'created', 'creates', 'creating', 'creation', 'creator', 'creators', 'creature', 'creatures', 'credibility', 'credible', 'creed', 'crime', 'criminal', 'criminalization', 'crisis', 'cristian', 'criterion', 'critic', 'critical', 'criticise', 'criticism', 'criticize', 'criticized', 'crocodile', 'cronology', 'crook', 'crop', 'crore', 'croreno', 'crorepathis', 'cross', 'crossing', 'crossover', 'crowd', 'crpf', 'crucial', 'crude', 'cruel', 'cruelty', 'crusader', 'crush', 'cry', 'crystal', 'ctd', 'cud', 'culinary', 'culmination', 'culpable', 'culprit', 'cult', 'cultivated', 'cultural', 'culture', 'cultured', 'cur', 'curb', 'curbed', 'curbing', 'curfew', 'current', 'currently', 'currnet', 'cursedmodi', 'cust', 'custom', 'customer', 'cut', 'cute', 'cutoff', 'cutting', 'cuz', 'cvc', 'cwc', 'cycle', 'da', 'dad', 'dada', 'dadhi', 'dadiofshaheenbaug', 'dadis', 'daft', 'daily', 'dalit', 'dalitmuslim', 'dalits', 'damage', 'damaged', 'damageddestroyed', 'damaging', 'damn', 'damned', 'damnedis', 'dance', 'dancing', 'danga', 'dangaais', 'dange', 'danger', 'dangerinfinity', 'dangerous', 'dangerousand', 'danghis', 'dar', 'darahuamusalmaan', 'darapuri', 'daravaneprovisions', 'darbaar', 'dare', 'dark', 'darta', 'darul', 'darwane', 'data', 'database', 'date', 'dated', 'dateline', 'daud', 'daughter', 'david', 'day', 'day1', 'daybyday', 'days', 'daytoday', 'dc', 'dcp', 'de', 'dead', 'deadline', 'deaf', 'deaft', 'deal', 'dealing', 'dealt', 'dear', 'death', 'deaths', 'debacle', 'debate', 'debated', 'debates', 'debating', 'debilitating', 'debt', 'dec', 'dec2019', 'decade', 'deceit', 'december', 'decemeber', 'decibl', 'decible', 'decide', 'decided', 'decides', 'deciding', 'decimated', 'decimatedincindia', 'decision', 'decisive', 'decjan', 'declaration', 'declare', 'declared', 'declares', 'decoy', 'decrease', 'decreasing', 'deduction', 'deed', 'deemed', 'deep', 'deepens', 'deeply', 'defame', 'default', 'defeat', 'defect', 'defend', 'defender', 'defending', 'defense', 'defiantly', 'defin', 'definately', 'define', 'defined', 'defines', 'defining', 'definitely', 'deflect', 'defunct', 'degree', 'dehli', 'dehliburning', 'dehlipolice', 'dehliriots', 'dein', 'dekh', 'dekhenge', 'dekhiye', 'dekho', 'del', 'delaware', 'delay', 'delegitimise', 'deleted', 'delhi', 'delhiagainstjehadiviolence', 'delhiantimuslimgenocide', 'delhibur', 'delhiburning', 'delhiburningkejriwal', 'delhiburns', 'delhicaaclashes', 'delhielections2020', 'delhifighthate', 'delhigenocide', 'delhigenocide2020', 'delhigoverment', 'delhihig', 'delhihighcourt', 'delhiisburning', 'delhimodel', 'delhipogroms2020', 'delhipolic', 'delhipolice', 'delhipoliceqaatilhai', 'delhirains', 'delhiri', 'delhirio', 'delhiriot', 'delhiriot2020', 'delhiriots', 'delhiriots2', 'delhiriots202', 'delhiriots2020', 'delhiriottruth', 'delhiroits2020', 'delhites', 'delhiv', 'delhiviol', 'delhiviolance', 'delhiviolen', 'delhiviolence', 'delhivoilence', 'delhiâ', 'deliberate', 'deliberated', 'deliberately', 'deligates', 'delighted', 'delivered', 'dem', 'demand', 'demanded', 'demanding', 'demarcatin', 'demdebate', 'demo', 'democra', 'democractic', 'democracy', 'democracycaa', 'democrat', 'democratic', 'democratically', 'demographic', 'demonetisation', 'demonetization', 'demonised', 'demonising', 'demonization', 'demonize', 'demonizing', 'demonstrates', 'demonstration', 'dems', 'dena', 'denge', 'denial', 'denied', 'denies', 'denomination', 'denounce', 'dental', 'deny', 'denying', 'department', 'departmentministry', 'depended', 'depends', 'deploy', 'deployed', 'deport', 'deportation', 'deported', 'deporting', 'depot', 'depressedand', 'deprive', 'deprived', 'depriving', 'dept', 'depth', 'dere', 'deriding', 'desai', 'descendant', 'descendents', 'descent', 'described', 'desert', 'deserted', 'deserve', 'deserves', 'desh', 'deshdrohi', 'deshdrohis', 'deshi', 'desi', 'design', 'designated', 'designed', 'desire', 'desired', 'desk', 'despair', 'despatched', 'desperate', 'despite', 'dest', 'destabilise', 'destroy', 'destroyed', 'destroying', 'destruction', 'destructionâ', 'destructive', 'detail', 'detailed', 'details', 'detain', 'detained', 'detention', 'detentioncenters', 'detentioncentre', 'determine', 'determined', 'detract', 'detractor', 'detriment', 'detrimental', 'dev', 'devastated', 'devastating', 'develop', 'developed', 'development', 'deviated', 'deviating', 'devide', 'devided', 'devil', 'devilish', 'devious', 'dey', 'dft', 'dh', 'dhaka', 'dharanas', 'dharm', 'dharma', 'dharmic', 'dhele', 'dhimmis', 'dhoni', 'dhundo', 'di', 'diabolical', 'dial100', 'dialogue', 'diary', 'dicriminatory', 'dictator', 'dictatorship', 'did', 'didi', 'didn', 'didnt', 'die', 'died', 'diedmany', 'diff', 'differ', 'difference', 'different', 'differently', 'differnt', 'difficu', 'difficult', 'digitization', 'dignified', 'dignity', 'digvijaya', 'dikha', 'dil', 'dilation', 'dilemma', 'dillydallying', 'diluting', 'dimension', 'diminish', 'dinance', 'dinner', 'diplomacy', 'diplomat', 'dire', 'direct', 'directactionday', 'directed', 'direction', 'directive', 'directly', 'directors', 'directs', 'dirty', 'dirtypolitics', 'dis', 'disadvantaged', 'disagree', 'disappear', 'disappearing', 'disappointed', 'disappointing', 'disasterplease', 'disbanding', 'discarded', 'discipline', 'disclose', 'disclosed', 'disclosing', 'discomfort', 'discr', 'discrediting', 'discretion', 'discrimina', 'discriminate', 'discriminated', 'discriminates', 'discriminating', 'discrimination', 'discriminatory', 'discus', 'discussed', 'discussing', 'discussion', 'disease', 'disent', 'disfranchising', 'disgrace', 'disgraceful', 'disguise', 'disgusted', 'disgusting', 'disharmony', 'disingenuous', 'disinvest', 'dismantle', 'dismiss', 'dismissed', 'dispelling', 'dispersed', 'displaced', 'display', 'displayed', 'displaying', 'displeased', 'displeasure', 'dispose', 'disposed', 'disposes', 'disprove', 'dispute', 'disrespect', 'disrespecting', 'disrupt', 'disrupting', 'disruption', 'disruptive', 'dissatisfactio', 'dissatisfaction', 'dissent', 'dissident', 'dissing', 'dissolve', 'distinction', 'distinguished', 'distort', 'distorted', 'distracted', 'distraction', 'distress', 'distressing', 'distribute', 'distributed', 'district', 'distrub', 'disturb', 'disturbance', 'disturbing', 'disturbunces', 'diverse', 'diversity', 'diversityâ', 'divert', 'divide', 'divideandrule', 'divided', 'dividend', 'divider', 'dividing', 'division', 'divisive', 'divorce', 'divorcing', 'dixon', 'dmk', 'dna', 'do', 'doc', 'docs', 'doct', 'doctrine', 'document', 'documentary', 'documentation', 'documented', 'documents', 'doe', 'doesn', 'doesnt', 'dog', 'doha', 'doing', 'doingif', 'dolandtrump', 'dollar', 'dollar5trillion', 'domestic', 'dominance', 'dominant', 'dominated', 'domination', 'don', 'donald', 'donaldtrump', 'donaldtrumpindiavisit', 'donating', 'donation', 'done', 'done2', 'donor', 'dont', 'dontprotest', 'doomed', 'doomsday', 'door', 'doosre', 'dose', 'dosent', 'dot', 'double', 'doubt', 'doubtful', 'doucheb', 'doval', 'dowb', 'down', 'downgrading', 'downloaded', 'downmarket', 'dr', 'draconian', 'draft', 'drafted', 'dragged', 'dragging', 'drain', 'drainage', 'drama', 'dramabazi', 'dramatic', 'draw', 'drawback', 'drawn', 'dream', 'dreamed', 'dreaming', 'dreamt', 'drexel', 'drift', 'drink', 'drive', 'driven', 'driver', 'driving', 'drkafeelkorihakaro', 'drohis', 'drop', 'dropped', 'dropping', 'drunk', 'dry', 'du', 'dubaihe', 'dubbed', 'duck', 'due', 'duly', 'dum', 'dumb', 'dumber', 'dumbest', 'dumbly', 'dumbness', 'dumbos', 'dummy', 'dump', 'duo', 'duplicating', 'duration', 'during', 'dustbin', 'dusted', 'duty', 'dwelling', 'dy', 'dying', 'dynamic', 'dynasty', 'each', 'eachother', 'eager', 'eagerly', 'earlier', 'earliest', 'early', 'earn', 'earning', 'earth', 'earthquake', 'easier', 'easily', 'easiness', 'easing', 'east', 'eastern', 'eastkhasihills', 'easy', 'eat', 'eating', 'ecery', 'economic', 'economist', 'economy', 'ecosystem', 'ecosystemâ', 'ect', 'edappadi', 'edge', 'edited', 'editing', 'editor', 'editorial', 'educate', 'educated', 'educating', 'education', 'educational', 'educationalâ', 'effect', 'effective', 'effectively', 'effectiveness', 'effort', 'eg', 'egged', 'ego', 'egypt', 'ehtesham', 'either', 'el', 'elaborate', 'elder', 'elected', 'election', 'elections', 'elections2021', 'electricity', 'electromagnetic', 'element', 'eligible', 'eliminate', 'eliminated', 'elimination', 'elite', 'eloquent', 'else', 'elsewhere', 'embargo', 'embarrass', 'embarrassed', 'embarrassment', 'embassy', 'embrace', 'embracement', 'emergency', 'emerging', 'emigration', 'emigrations', 'eminent', 'emmawatson', 'emotion', 'emotional', 'empathize', 'empathy', 'emphasise', 'emphasized', 'empirical', 'employ', 'employee', 'employees', 'employer', 'employment', 'employmentopportunities', 'empose', 'en', 'enabled', 'enabling', 'enact', 'enacted', 'enacting', 'enactm', 'enactment', 'encounter', 'encountered', 'encourage', 'encouraged', 'encouraging', 'encroached', 'encroachment', 'end', 'endangered', 'ended', 'endia', 'ending', 'endless', 'endorse', 'endthisviolence', 'enemy', 'energy', 'enforce', 'enforcement', 'engage', 'engaged', 'engaging', 'engineer', 'engineered', 'engineeringcaa', 'english', 'engulfing', 'enjoy', 'enjoyed', 'enjoying', 'enl', 'enlighten', 'enlightened', 'enlightening', 'enough', 'enoughed', 'enoughisenough', 'enroll', 'enshrined', 'ensuing', 'ensure', 'ensured', 'ensures', 'ensuring', 'enter', 'entered', 'entertain', 'entertained', 'entertainment', 'enthusiastically', 'entire', 'entirely', 'entry', 'enuf', 'enumeration', 'enumerator', 'environment', 'epi', 'epic', 'epicenterwhy', 'epidemic', 'episode', 'eql', 'equa', 'equal', 'equality', 'equalityforall', 'equally', 'equals', 'equate', 'equiped', 'equipment', 'equivalence', 'equivalent', 'eradicate', 'eradicating', 'eradication', 'erase', 'error', 'erupted', 'erupting', 'eruption', 'erupts', 'escalate', 'escape', 'escapist', 'ese', 'esp', 'especially', 'essence', 'essentially', 'establish', 'established', 'establishment', 'esteemed', 'et', 'etc', 'etcy', 'eternal', 'ethical', 'ethically', 'ethnic', 'ethos', 'eu', 'euphemismâ', 'europe', 'europeanparliament', 'evaluate', 'eve', 'even', 'evening', 'evenpolice', 'event', 'eventsfor', 'eventual', 'eventually', 'ever', 'every', 'everybody', 'everyday', 'everyone', 'everyones', 'everything', 'everytime', 'everywhere', 'evicts', 'evidenc', 'evidence', 'evident', 'evil', 'evince', 'evms', 'evn', 'evntlly', 'ex', 'exa', 'exact', 'exactly', 'exaggerated', 'exam', 'examin', 'example', 'excellent', 'except', 'exception', 'excercise', 'exchequer', 'exclude', 'excluded', 'excludes', 'excluding', 'exclusion', 'exclusionary', 'excuse', 'executed', 'execution', 'executive', 'exercise', 'exercising', 'exhibition', 'exist', 'existence', 'existent', 'existexcept', 'existing', 'exit', 'exodus', 'exp', 'expandable', 'expect', 'expectancy', 'expected', 'expecting', 'expel', 'expensive', 'experience', 'experiment', 'expert', 'explain', 'explained', 'explainer', 'explaini', 'explainin', 'explaining', 'explains', 'explanation', 'explian', 'explicitly', 'explicitlyðÿ', 'exploited', 'expose', 'exposed', 'exposewesternmedia', 'exposing', 'express', 'expressed', 'extend', 'extensive', 'extensively', 'extent', 'external', 'extreme', 'extremest', 'extremism', 'extremist', 'eye', 'eyes', 'fabric', 'fabulous', 'face', 'facebook', 'faced', 'facedwhat', 'facepalm', 'faces', 'facia', 'facility', 'facing', 'facist', 'fact', 'faction', 'facto', 'factor', 'factoring', 'factory', 'facts', 'factsthis', 'factual', 'factually', 'fade', 'faded', 'fail', 'failed', 'failing', 'fails', 'failure', 'failures', 'fair', 'faith', 'fake', 'fakefacts', 'fakefalse', 'fakemedia', 'fakene', 'fakenews', 'faker', 'fal', 'falicitate', 'fall', 'fallen', 'falleven', 'falling', 'false', 'falsehood', 'falsevictim', 'fam', 'familiar', 'family', 'famous', 'fan', 'fanatic', 'fancy', 'fanned', 'fanning', 'fantastic', 'far', 'farasi', 'farce', 'farhan', 'fark', 'farmer', 'farright', 'fascism', 'fascist', 'fashionable', 'fasict', 'fast', 'fasttracks', 'fate', 'father', 'fatherhindu', 'fault', 'favor', 'favored', 'favorite', 'favour', 'faye', 'fbi', 'fbvgs', 'fcuks', 'fea', 'fealate', 'fear', 'fearing', 'fearmongering', 'feasible', 'feasting', 'feat', 'feature', 'feb', 'february', 'fed', 'federal', 'federation', 'fee', 'feed', 'feeding', 'feel', 'feeling', 'feign', 'feigning', 'fellow', 'felt', 'female', 'ferrari', 'few', 'fi', 'fiance', 'fiasco', 'fictional', 'fig', 'fight', 'fighting', 'fights', 'figuratively', 'figure', 'file', 'filed', 'filing', 'fill', 'filled', 'filling', 'film', 'filter', 'final', 'finally', 'financ', 'finance', 'financed', 'financial', 'financially', 'financing', 'find', 'finding', 'findwho', 'fine', 'finest', 'finger', 'finished', 'fir', 'fire', 'firebowl', 'fired', 'firing', 'firm', 'firmly', 'firs', 'first', 'fish', 'fist', 'fit', 'fitness', 'five', 'fixed', 'fixing', 'fizzled', 'fl', 'flag', 'flame', 'flat', 'flawed', 'fled', 'flee', 'fleeing', 'flithy', 'flo', 'floating', 'flood', 'floor', 'flop', 'floridian', 'flow', 'flowing', 'floyds', 'fly', 'flying', 'fm', 'fo', 'foal', 'focus', 'focussed', 'fodder', 'foe', 'foil', 'folk', 'folks', 'follow', 'followed', 'follower', 'following', 'food', 'fool', 'fooled', 'fooling', 'foolish', 'foolproof', 'fools', 'foot', 'footage', 'football', 'footwork', 'for', 'forbidden', 'force', 'forced', 'forceful', 'forcefully', 'forces', 'fore', 'forefront', 'foregone', 'foreign', 'foreigner', 'foreigners', 'forever', 'forget', 'forgetting', 'forgive', 'forgot', 'forgotten', 'form', 'formality', 'format', 'formed', 'former', 'forming', 'formula', 'formulate', 'formulated', 'forot', 'forsake', 'forsc', 'forth', 'fortnite', 'forward', 'forwarding', 'fought', 'foul', 'found', 'foundation', 'founded', 'four', 'fourth', 'foxandfriends', 'foxnews', 'fr', 'fragility', 'frame', 'framed', 'france', 'france24', 'frank', 'frankly', 'fraternity', 'fraud', 'fraudulent', 'freaking', 'freaky', 'free', 'freebie', 'freebies', 'freedo', 'freedom', 'freefom', 'freely', 'freetemple', 'french', 'frenzied', 'frenzy', 'fresh', 'freudian', 'friday', 'friend', 'friendly', 'friends', 'friendship', 'friendshipthats', 'frightening', 'frightful', 'fringe', 'frm', 'from', 'front', 'frothing', 'fruit', 'fruitful', 'frustration', 'fu', 'fuck', 'fucked', 'fuckin', 'fucking', 'fuckyou', 'fuel', 'fueled', 'fuelled', 'fuelling', 'fuk', 'fulfil', 'fulfilled', 'full', 'fullest', 'fullform', 'fulltosses', 'fully', 'fuming', 'fun', 'function', 'fund', 'fundamental', 'fundamentalist', 'fundamentally', 'funded', 'funding', 'funny', 'furth', 'further', 'furthering', 'furthermore', 'fuss', 'futility', 'future', 'fwice', 'fyi', 'gaddaron', 'gaff', 'gahara', 'gain', 'gaining', 'gajwaehind', 'galat', 'galaxys20ultra', 'gali', 'game', 'gandagi', 'gandhi', 'gandhian', 'gandhiji', 'gandhinehru', 'gandhiwad', 'ganesh', 'gang', 'gangster', 'gap', 'garb', 'garbage', 'garu', 'gaslighting', 'gather', 'gathered', 'gave', 'gayi', 'gazette', 'gazwa', 'gazwaehind', 'gdp', 'gdpgrowth', 'gear', 'gearing', 'geh', 'gen', 'gene', 'general', 'generalknowledge', 'generally', 'generation', 'genetics', 'genius', 'genocide', 'genocideindelhi', 'genocideofindianmuslims', 'gentle', 'gentleman', 'genuine', 'german', 'germany', 'get', 'getting', 'ghaan', 'ghaans', 'ghandhiji', 'ghanta', 'ghar', 'ghazvaehind', 'ghazwa', 'ghazwaehind', 'ghmc', 'ghulaami', 'ghushpatiya', 'gidle', 'gift', 'gimme', 'girl', 'girls', 'giv', 'give', 'given', 'givin', 'giving', 'glad', 'glaring', 'glee', 'glimpse', 'global', 'glory', 'go', 'goa', 'goal', 'goals', 'goat', 'gobackamitshah', 'gobacktrump', 'god', 'godhra', 'godhramassacre', 'godi', 'godmorningthursday', 'godsefollowers', 'goe', 'goebbels', 'goi', 'going', 'gokulpuri', 'gold', 'goli', 'golimaro', 'gone', 'gonna', 'good', 'goodâ', 'goon', 'goondas', 'goons', 'gopi', 'gor', 'gorilla', 'got', 'gouge', 'gov', 'governance', 'governed', 'governer', 'government', 'governmentâ', 'governor', 'govt', 'govts', 'grabbed', 'grade', 'grader', 'gradually', 'graduate', 'graduated', 'gran', 'granada', 'grand', 'grandfather', 'grant', 'granted', 'granting', 'great', 'greater', 'greatest', 'greatly', 'greece', 'greeceunderattack', 'greedy', 'greek', 'grief', 'grim', 'grocer', 'grossly', 'ground', 'groundlosing', 'groundwork', 'group', 'groups', 'grow', 'growing', 'grown', 'grows', 'growth', 'growththey', 'gruesomely', 'gs', 'gst', 'guarantee', 'guaranteed', 'guarding', 'gudi', 'gue', 'guerilla', 'guess', 'guessing', 'guest', 'guiding', 'guild', 'guilty', 'guise', 'gujarat', 'gujaratis', 'gujaratmodel', 'gujaratriots', 'gujrat', 'gujratmodel', 'gulag', 'gulbarga', 'gullible', 'gun', 'gundagardi', 'gunga', 'gunman', 'guntur', 'gunâ', 'guru', 'gut', 'guterres', 'gutted', 'gutts', 'guwahatihc', 'guy', 'guys', 'gvmt', 'gvt', 'gya', 'gyan', 'gyani', 'gzero', 'ha', 'haat', 'haatho', 'habit', 'hack', 'had', 'hadnt', 'hafiz', 'haftawasulli', 'haha', 'hahaha', 'hai', 'hain', 'hainhimmat', 'hair', 'hairraising', 'haj', 'hajj', 'halala', 'half', 'halftruth', 'halfvolleys', 'hame', 'hamko', 'hamper', 'hampshire', 'hand', 'handed', 'handing', 'handle', 'handled', 'handler', 'hands', 'handsome', 'handsâ', 'hang', 'happen', 'happenand', 'happened', 'happening', 'happens', 'happily', 'happiness', 'happy', 'harass', 'harassed', 'harboring', 'harbouring', 'hard', 'harden', 'harder', 'hardest', 'hardly', 'harish', 'harm', 'harmed', 'harmful', 'harming', 'harmless', 'harmony', 'harping', 'harsh', 'harveyweinsteins', 'hasmi', 'hasnt', 'haste', 'hat', 'hate', 'hated', 'hateforkejriwal', 'hateful', 'hatemonger', 'hater', 'hatered', 'hatespeech', 'hatespreading', 'hating', 'hatred', 'hatredness', 'hatts', 'haunt', 'hauzrani', 'hav', 'have', 'havent', 'having', 'havoc', 'hawa', 'hawala', 'haywire', 'hc', 'hcs', 'hd', 'he', 'head', 'headconstable', 'heading', 'headless', 'headline', 'headquarter', 'health', 'hear', 'heard', 'hearing', 'heart', 'heartbreaking', 'hearted', 'heartly', 'heartwarming', 'heaven', 'heck', 'heed', 'hegde', 'height', 'heinous', 'held', 'hell', 'helllooo', 'hello', 'help', 'helped', 'helper', 'helpful', 'helping', 'helpless', 'hence', 'heppenwith', 'her', 'herbicide', 'herd', 'here', 'hereby', 'heritage', 'hero', 'heroism', 'herself', 'heshe', 'hey', 'hhum', 'hi', 'hidden', 'hide', 'hideout', 'hiding', 'high', 'higher', 'highest', 'highjacking', 'highlight', 'highlighted', 'highly', 'hijack', 'hijacked', 'hijadamedia', 'hil', 'hilarious', 'hill', 'hills', 'hilter', 'him', 'himalaya', 'himmat', 'himself', 'hind', 'hindi', 'hindoo', 'hindu', 'hinduex', 'hinduextremists', 'hindugenocide', 'hindui', 'hinduism', 'hinduisterrorist', 'hindumuslim', 'hindumuslimbhaibhai', 'hindumuslimunity', 'hinduphobia', 'hinduphobic', 'hindurashtra', 'hindus', 'hindusena', 'hindushow', 'hindusikh', 'hindussikhs', 'hindustan', 'hindustani', 'hindusthan', 'hindusthat', 'hindusâ', 'hinduterror', 'hindutva', 'hindutvaterrorists', 'hindutwa', 'hinduvata', 'hindðÿ', 'hire', 'his', 'hisher', 'historic', 'historical', 'history', 'hit', 'hitler', 'hjabki', 'hm', 'hmari', 'hmindia', 'hmm', 'hmmm', 'hmotootolerant', 'hmpm', 'ho', 'hoarsely', 'hofstra', 'hoga', 'hoke', 'hold', 'holder', 'holding', 'holi', 'holiday', 'holler', 'hollowness', 'hollywood', 'holocaust', 'holy', 'home', 'homeland', 'homeless', 'homeministry', 'homeminster', 'hometown', 'homework', 'homo', 'homophobic', 'hona', 'honable', 'honble', 'honest', 'honestly', 'honesty', 'honge', 'honor', 'honorable', 'honourable', 'honoured', 'honourship', 'hontent', 'hook', 'hooliganism', 'hoot', 'hop', 'hope', 'hopeful', 'hopefully', 'hori', 'horrendous', 'horrible', 'horrifying', 'hospitalspvt', 'hossain', 'hostage', 'hostile', 'hosting', 'hot', 'hota', 'hotawhere', 'hote', 'hour', 'house', 'housef', 'household', 'househunting', 'houses', 'housing', 'how', 'however', 'howrah', 'hows', 'hr', 'hs2', 'hss2020', 'hto', 'hu', 'hue', 'huffpost', 'huge', 'hum', 'huma', 'human', 'humane', 'humanitarian', 'humanity', 'humanityf', 'humanityfirst', 'humanrights', 'humans', 'humare', 'humble', 'humor', 'hundred', 'hungry', 'hunt', 'hurdle', 'hurry', 'hurt', 'hurtdamageriot', 'hurting', 'husband', 'husbands', 'hussain', 'hutton', 'huye', 'hv', 'hve', 'hw', 'hyderabad', 'hyderabadis', 'hyped', 'hypocrisy', 'hypocrisyðÿ', 'hypocrite', 'hysterical', 'hâ', 'ia', 'iamindianisupportcaa', 'ib', 'ic', 'icao', 'ice', 'ichamati', 'icing', 'id', 'idea', 'ideal', 'ideally', 'identification', 'identified', 'identify', 'identifying', 'identity', 'ideological', 'ideology', 'idiocy', 'idiot', 'idiotic', 'idiots', 'ids', 'ie', 'if', 'ifma', 'iftda', 'ignited', 'igniting', 'igno', 'ignorance', 'ignorant', 'ignore', 'ignored', 'ignoredhad', 'ignores', 'ignoring', 'iillegal', 'iima', 'ilaaqe', 'ilk', 'ill', 'illeducated', 'illegal', 'illegalbangladeshis', 'illegally', 'illegals', 'illi', 'illiagal', 'illiberalism', 'illinformed', 'illiterate', 'illogical', 'illogically', 'illtreat', 'illusion', 'illustrated', 'ilp', 'im', 'imaan', 'image', 'images', 'imaginary', 'imagination', 'imagine', 'imaging', 'imam', 'immature', 'immediate', 'immediately', 'immense', 'immigrant', 'immigrantsâ', 'immigration', 'immoral', 'imo', 'imp', 'impaa', 'impact', 'impacted', 'impartial', 'impasse', 'imperative', 'imperialist', 'impleadment', 'implement', 'implementation', 'implemented', 'implementing', 'implemetation', 'implent', 'implication', 'impo', 'importance', 'important', 'importantly', 'importing', 'impose', 'imposed', 'impossible', 'impotent', 'impractical', 'impre', 'impressive', 'imprint', 'improve', 'impunity', 'imran', 'imrankhan', 'in', 'inability', 'inaccuracy', 'inaction', 'inborn', 'inbred', 'incapable', 'incapacitated', 'incendiary', 'incessant', 'incessantly', 'inch', 'incharge', 'incident', 'incidentally', 'incindia', 'incite', 'incited', 'incitement', 'inciting', 'incl', 'include', 'included', 'includedis', 'includes', 'including', 'inclusion', 'inclusive', 'incoherently', 'income', 'incompatible', 'incompetence', 'incompetent', 'inconvenience', 'inconveniencing', 'incorporate', 'incorrec', 'incorrect', 'increase', 'increased', 'increasing', 'increasingly', 'incredible', 'ind', 'indeed', 'indefinite', 'independence', 'independenceofjudiciary', 'independent', 'independently', 'india', 'indiaagain', 'indiaagainstcaa', 'indiaagainstcaanprnrc', 'indiaagainstcaanrcnpr', 'indiaall', 'indiaburning', 'indiafirst', 'indiai', 'indiaideasconclave', 'indiaimo', 'indiamedia', 'indian', 'indianatrocities', 'indianconstitution', 'indianf', 'indianjudiciary', 'indianmedia', 'indianmodia', 'indianmuslim', 'indianmuslims', 'indianmuslimsindanger', 'indiano', 'indianpenalcode', 'indianplease', 'indianpolice', 'indians', 'indiapeople', 'indiarejectscaanrcnpr', 'indiarejecttrumpvisit', 'indiasaysnomore', 'indiasupportsamitshah', 'indiasupportscaa', 'indiathey', 'indiavsmob', 'indiawelcomestrump', 'indiawhich', 'indiawith', 'indic', 'indicate', 'indicator', 'indifference', 'indigenous', 'indigestible', 'indirect', 'indirectly', 'individual', 'indonesia', 'indoor', 'indulge', 'indulged', 'indulging', 'industrialist', 'industry', 'inefficiency', 'inefficient', 'inept', 'inequality', 'inequity', 'inevitable', 'infact', 'infant', 'infedels', 'infiltrate', 'infiltrated', 'infiltration', 'infiltrator', 'infiltratorsatleast', 'inflammatory', 'inflicted', 'influence', 'influencers', 'influx', 'info', 'inforced', 'inform', 'information', 'informed', 'informer', 'informing', 'informs', 'infrastructure', 'infringed', 'infront', 'infuriating', 'infused', 'inhance', 'inherent', 'inherited', 'inhuman', 'inida', 'inimical', 'inindia', 'initially', 'initiate', 'initiated', 'initiative', 'injected', 'injured', 'injury', 'injustice', 'inka', 'inki', 'inko', 'inner', 'innocen', 'innocence', 'innocent', 'innocuous', 'innumerable', 'inorder', 'inprogres', 'inquiry', 'insane', 'insanei', 'insanity', 'insecurity', 'insensitivity', 'insert', 'inserted', 'insha', 'inshallaha', 'inside', 'insidious', 'insidiousness', 'insignificant', 'insist', 'insisted', 'insisting', 'insists', 'inspite', 'instability', 'instagram', 'instance', 'instead', 'instigate', 'instigated', 'instigating', 'instigation', 'instigator', 'instill', 'instilled', 'institution', 'institutions', 'institutionsâ', 'instruction', 'instructor', 'insude', 'insular', 'insult', 'insurance', 'int', 'intact', 'inte', 'integral', 'integration', 'integrity', 'intelectual', 'intellectual', 'intellectualjihadi', 'intellectualsfinallyshout', 'intelligence', 'intelligenece', 'intelligent', 'intels', 'inten', 'intend', 'intended', 'intensifying', 'intensity', 'intensively', 'intent', 'intention', 'intentional', 'intentionally', 'intentioned', 'inter', 'interacted', 'interaction', 'interest', 'interested', 'interesting', 'interfearing', 'interfere', 'interim', 'interior', 'interject', 'interlinked', 'interlocution', 'interlocutor', 'interlocutors', 'internal', 'internally', 'international', 'internationalize', 'internationally', 'interned', 'internet', 'interpersonal', 'interpret', 'interpretating', 'interpretation', 'interrelate', 'interrogate', 'interst', 'interview', 'intimated', 'into', 'intoleranc', 'intolerance', 'intolerant', 'intransigence', 'intricacy', 'introduce', 'introduced', 'introducing', 'introduction', 'introspect', 'introspecting', 'introspection', 'intrude', 'intruder', 'inturn', 'invade', 'invalid', 'invaluable', 'invasion', 'inve', 'invented', 'invention', 'invertebrate', 'investigate', 'investigated', 'investigating', 'investigation', 'investing', 'investor', 'invite', 'invited', 'inviting', 'invoking', 'involved', 'involvement', 'involvesâ', 'involving', 'inâ', 'iowa', 'ipc', 'ipcreform', 'iphone', 'ipspankajnain', 'iran', 'iranand', 'iraq', 'ireland', 'irom', 'iron', 'ironfist', 'ironically', 'irony', 'irrational', 'irrationalcant', 'irrelevant', 'irrespective', 'irresponsible', 'irrevocably', 'irrigation', 'irritatingly', 'is', 'ishwar', 'isi', 'isism', 'iska', 'isl', 'islam', 'islamabad', 'islamatleast', 'islamexposed', 'islamic', 'islamicjihad', 'islamiclynchmob', 'islamicradicalterrorism', 'islamicseparatism', 'islamicstate', 'islamicterror', 'islamicterrorism', 'islamis', 'islamisation', 'islamisglobalproblem', 'islamism', 'islamist', 'islamization', 'islamize', 'islamophobe', 'islamophobic', 'ism', 'ismaili', 'isne', 'isnt', 'isolate', 'isolation', 'israel', 'israeli', 'isro', 'issue', 'issued', 'istandwithgreece', 'istandwithkapilmishra', 'istg', 'isupportamitshah', 'isupportcaa', 'isupportcaanrc', 'isupportdelhipolice', 'isupportkapilmishra', 'it', 'italian', 'itani', 'itanti', 'itbut', 'itcell', 'itching', 'item', 'ithow', 'itillegal', 'itll', 'itna', 'itne', 'itnoth', 'itor', 'its', 'itself', 'itthey', 'itwhy', 'ityou', 'itðÿ', 'ivd', 'ive', 'iwasnotthere', 'ja', 'jaake', 'jaane', 'jaat', 'jaayega', 'jabeda', 'jadavpuruniversity', 'jadeja', 'jafarabad', 'jaffarabad', 'jaffrabad', 'jafrabad', 'jafrabadviolence', 'jagdeepdhankhar', 'jaggi', 'jaha', 'jahannum', 'jahil', 'jai', 'jaibhimmimcream', 'jaihind', 'jaihindðÿ', 'jail', 'jailbharo', 'jain', 'jains', 'jaintia', 'jaishreeram', 'jaladia', 'jaldi', 'jallikattu', 'jam', 'jamaatul', 'james', 'jamia', 'jamiamilia', 'jamiamilliaislamia', 'jamiaviolence', 'jammu', 'jampk', 'jampkjamia', 'jamun', 'jan', 'janitorial', 'janta', 'jantajanarden', 'jantar', 'jantarmantar', 'january', 'jao', 'japan', 'jarorat', 'jat', 'jatinbora', 'javed', 'javedakhtar', 'javedsalim', 'jawan', 'jayega', 'jayegi', 'jdu', 'jealous', 'jehadi', 'jehadigang', 'jehadis', 'jennifer', 'jesse', 'jew', 'jhoota', 'ji', 'jih', 'jihaad', 'jihad', 'jihadhis', 'jihadi', 'jihadimedia', 'jihadis', 'jihadisburningdelhi', 'jihadist', 'jihadists', 'jindaad', 'jinnah', 'jinx', 'jiska', 'jisthalimainkhate', 'jiya', 'jk370', 'jnu', 'jnuviolence', 'jo', 'job', 'jobless', 'jobs24', 'john', 'johno', 'johnoliver', 'johnson', 'join', 'joined', 'joining', 'joint', 'joke', 'joker', 'jolt', 'jordan', 'jou', 'journalism', 'journalist', 'journalistic', 'journalists', 'journey', 'journo', 'journos', 'joy', 'jst', 'ju', 'judge', 'judgement', 'judgment', 'judgmentbut', 'judicial', 'judicialreform', 'judiciary', 'juggernaut', 'july', 'jump', 'jumped', 'jumping', 'jus', 'just', 'justice', 'justified', 'justify', 'justifying', 'justsaying', 'ka', 'kaa', 'kaahmir', 'kab', 'kabir', 'kabul', 'kafir', 'kagaj', 'kagaz', 'kahe', 'kahin', 'kailashahar', 'kaise', 'kajari', 'kaka', 'kalam', 'kalindi', 'kalkaji', 'kamalhaasan', 'kamra', 'kanhaiyakumar', 'kannon', 'kanoon', 'kanpur', 'kanyakumari', 'kapil', 'kapilmishr', 'kapilmishra', 'kapilmishraind', 'kardam', 'kardo', 'karega', 'karkesad', 'karma', 'karnataka', 'karne', 'karo', 'karte', 'kashikars', 'kashmir', 'kashmirblackout', 'kashmiri', 'kashmiripandits', 'kashmirlockdown', 'kashmirwantsfreedom', 'kashyap', 'kasmir', 'kasoor', 'kathmullas', 'kattarpanthi', 'kaum', 'kaun', 'kavita', 'kcr', 'ke', 'kediwhat', 'keen', 'keep', 'keeping', 'kei', 'kejri', 'kejriwal', 'kejriwalpassresolutionagainstnpr', 'kejriwals', 'kept', 'keral', 'kerala', 'kerfew', 'ket', 'key', 'khaas', 'khade', 'khalistan', 'khalisthan', 'khan', 'khana', 'kharab', 'khas', 'khasi', 'khatam', 'khate', 'khaya', 'kheer', 'khilaf', 'khilafa', 'khilafat2', 'khule', 'khureji', 'khush', 'ki', 'kick', 'kickanticaaout', 'kicked', 'kicking', 'kid', 'kidnap', 'kidnapped', 'kidnapping', 'kids', 'kilked', 'kill', 'killathone', 'killed', 'killer', 'killing', 'kimkardashian', 'kind', 'kinda', 'kindled', 'kindly', 'kindness', 'king', 'kingdom', 'kisi', 'kisika', 'kitaab', 'kitchen', 'kitna', 'kitni', 'kiya', 'klled', 'kneeling', 'knew', 'knockknock', 'know', 'knowing', 'knowledgable', 'knowledge', 'knowling', 'known', 'knows', 'knw', 'ko', 'kohli', 'koi', 'kolkata', 'korea', 'kp', 'krantikari', 'kshatriyas', 'kt', 'ku6', 'kuch', 'kuchh', 'kuddos', 'kudos', 'kudratikhana', 'kumar', 'kunal', 'kunj', 'kursi', 'kutton', 'kwo', 'ky', 'kya', 'la', 'laanat', 'label', 'labour', 'labourer', 'lac', 'lack', 'lad', 'lady', 'lafda', 'lag', 'laga', 'lagake', 'lagne', 'lagu', 'laid', 'lakh', 'lal', 'lalter', 'lame', 'lament', 'lampo', 'land', 'landjihad', 'landlady', 'landmass', 'landslide', 'language', 'languishing', 'lank', 'lankan', 'large', 'largely', 'larger', 'largest', 'last', 'last70', 'lastly', 'lastweektonight', 'late', 'lately', 'later', 'latest', 'latethen', 'lathi', 'lathicharge', 'latinas', 'latter', 'laugh', 'launch', 'laundering', 'lautenbergspecter', 'law', 'lawactrules', 'lawamporder', 'lawcaa', 'lawenforcement', 'lawfully', 'lawlessness', 'lawmaker', 'lawnobody', 'laws', 'lawswerejectcaanprnrc', 'lawyer', 'laying', 'layman', 'laziness', 'lazygovernmentemployees', 'le', 'leach', 'lead', 'leader', 'leaders', 'leadership', 'leading', 'leaf', 'league', 'leaning', 'learn', 'learning', 'learnt', 'least', 'leave', 'leavin', 'leaving', 'lebanese', 'lebanon', 'lechasma', 'lecture', 'lecturing', 'led', 'leech', 'left', 'leftislamist', 'leftist', 'leftout', 'leftover', 'lefty', 'leg', 'legacy', 'legal', 'legally', 'legendary', 'legislation', 'legislature', 'legislatureampthe', 'legitimacy', 'legitimate', 'legitimised', 'legitimize', 'legitimizing', 'leisure', 'lekin', 'length', 'leniency', 'lenin', 'leninists', 'leon', 'leona', 'lesley', 'less', 'lesser', 'lesson', 'let', 'letter', 'level', 'ley', 'lia', 'liar', 'liberal', 'liberalism', 'liberals', 'liberandus', 'liberty', 'librel', 'libtards', 'license', 'lie', 'lied', 'lieing', 'lies', 'life', 'lifeline', 'lifelovekumbh', 'lifestyle', 'lift', 'lifted', 'liftleft', 'light', 'lightjournos', 'lightly', 'lijiye', 'like', 'liked', 'likely', 'likeminded', 'liking', 'lillerate', 'limbaugh', 'limelight', 'limit', 'lims', 'linden', 'line', 'liner', 'link', 'linked', 'linking', 'lion', 'list', 'listen', 'listened', 'listenhowever', 'listening', 'lit', 'literally', 'literate', 'litmus', 'littichokhafrom', 'little', 'livable', 'live', 'liveandletlive', 'lived', 'livelihood', 'living', 'liyaka', 'liyaquat', 'liye', 'll', 'lo', 'lobby', 'local', 'locality', 'localityeveryone', 'locals', 'location', 'lock', 'lockdown', 'lodging', 'log', 'logic', 'logical', 'logically', 'logo', 'logon', 'lok', 'loksabha', 'lol', 'london', 'londoners', 'long', 'longer', 'longest', 'longitudinal', 'look', 'looking', 'loophole', 'loophope', 'loose', 'loosing', 'looted', 'lord', 'lordship', 'lose', 'loses', 'losi', 'losing', 'losingtheplot', 'loss', 'lost', 'lost100s', 'lot', 'lotus', 'loud', 'loudly', 'love', 'loved', 'loving', 'low', 'lower', 'lowest', 'lowlives', 'lowwage', 'loyal', 'loyalty', 'lpg', 'lt3', 'ltd', 'lucid', 'luck', 'luckily', 'lucknow', 'luk', 'lull', 'lulugarcia', 'lump', 'lunatic', 'lured', 'lust', 'lutyen', 'lutyens', 'lutyensgang', 'lutyensmedia', 'lying', 'lynch', 'lynched', 'lynching', 'lynchistan', 'ma', 'maaf', 'maam', 'maaro', 'maaroon', 'machinary', 'machine', 'machinery', 'mackelmore', 'mad', 'madam', 'made', 'madhya', 'madhyapradesh', 'madison', 'madness', 'madrasa', 'madrsa', 'maggot', 'magistrate', 'magnifying', 'maharaj', 'maharana', 'maharashtra', 'maharastra', 'mahatm', 'mahatma', 'mahurat', 'mai', 'maidan', 'mailing', 'main', 'maine', 'mainly', 'mainstream', 'maintain', 'maintaining', 'maj', 'majestic', 'major', 'majoritarian', 'majority', 'majoritymuslim', 'majorly', 'make', 'making', 'mal', 'malacious', 'malafide', 'malaysia', 'male', 'malicious', 'maliciously', 'malign', 'maligning', 'malkin', 'mam', 'mamata', 'mamatabanerjee', 'mamatadi', 'man', 'manage', 'manager', 'manda', 'mandated', 'mandatory', 'mandir', 'mani', 'manipulate', 'manipulated', 'manipulative', 'manmohan', 'manmohansingh', 'mann', 'manner', 'mannkibaat', 'manpower', 'mantar', 'mantri', 'manually', 'manufactured', 'manufacturing', 'manuplated', 'manusmriti', 'many', 'manyou', 'mao', 'mar', 'marauder', 'march', 'marginalised', 'marginalize', 'marginalized', 'marina', 'mark', 'marked', 'market', 'maro', 'marriage', 'martyr', 'martyras', 'maruti', 'marwaris', 'marxism', 'marxist', 'mary', 'masala', 'masjid', 'mask', 'mass', 'massacare', 'massive', 'master', 'mastermin', 'mastermind', 'mat', 'mata', 'mataji', 'match', 'mate', 'mater', 'mathematicianswara', 'mathematics', 'matlab', 'matt', 'matter', 'matu', 'mature', 'matured', 'maujpur', 'maulvis', 'max', 'may', 'mayanmar', 'mayavati', 'maybe', 'mayhem', 'mayhemfirst', 'mayhµm', 'mayhðµm', 'mc', 'mcq', 'mcqs', 'md', 'me', 'meal', 'mean', 'meaning', 'means', 'meant', 'meanwhile', 'meas', 'measure', 'measurefollowing', 'measures', 'mechanic', 'mechanism', 'mechanismnon', 'meddle', 'meddles', 'medi', 'media', 'mediabanners', 'mediagovernment', 'mediajournalists', 'mediapresstitutes', 'medias', 'mediat', 'mediate', 'mediaterrorism', 'mediation', 'mediator', 'medical', 'medicare4all', 'medicine', 'medina', 'medium', 'meet', 'meeting', 'meeting2', 'meetings', 'meets', 'meghalaya', 'meghalayacurfew', 'meghalayaon', 'meghalayapolice', 'meh', 'mehar', 'mehta', 'mei', 'mein', 'melaniatrump', 'member', 'meme', 'memory', 'men', 'menace', 'mend', 'mental', 'mentalhealthmatters', 'mentality', 'mentally', 'mention', 'mentioned', 'mentioning', 'mercilessly', 'mere', 'merely', 'merit', 'meritorious', 'mess', 'message', 'messaging', 'met', 'meter', 'method', 'methodist', 'meticulously', 'metro', 'metropolitan', 'mexican', 'mey', 'mi', 'michael', 'micro', 'micron', 'microsoft', 'middle', 'midmajor', 'midmarch', 'midnight', 'might', 'migrant', 'migrated', 'migration', 'mila', 'mild', 'mileage', 'milestone', 'militant', 'military', 'millennials', 'million', 'miltitant', 'min', 'mind', 'minded', 'mindless', 'mindset', 'mini', 'minimum', 'minister', 'ministers', 'ministry', 'minor', 'minorit', 'minorities', 'minoritiestheir', 'minority', 'minorityamp', 'minuscule', 'minute', 'mirror', 'mischevious', 'mischievously', 'misconception', 'misconstrued', 'miscreant', 'misdeed', 'miserably', 'misery', 'misgui', 'misguide', 'misguided', 'misguiding', 'mishra', 'mishras', 'misinfor', 'misinform', 'misinformation', 'misinformed', 'misinforming', 'misinformng', 'mislead', 'misleading', 'misled', 'misquoting', 'misra', 'misrepresenting', 'miss', 'missed', 'missguided', 'missing', 'missionariesdidnt', 'missionmodi', 'mistake', 'mistaken', 'mister', 'mistreated', 'mistress', 'mistrust', 'misunderstanding', 'misunderstood', 'misuse', 'misusing', 'mithilesh', 'mithunda', 'mix', 'mixing', 'mjakbar', 'mla', 'mlas', 'mlc', 'mltiple', 'mn', 'mo', 'moan', 'mob', 'mobbing', 'mobile', 'mobilisation', 'mobilising', 'mobilization', 'mobilized', 'mock', 'mocked', 'mockery', 'mode', 'model', 'moderator', 'modern', 'modi', 'modifaceofterror', 'modifyingcorrecting', 'modigovt', 'modihitler', 'modijee', 'modiji', 'modilies', 'modimadedisaster', 'modimadness', 'modimustresign', 'modis', 'modishah', 'moditrump', 'moditrumpinindia', 'moditrumpmeet', 'modiâ', 'module', 'modus', 'mofuers', 'moha', 'mohajirswhy', 'mohammadtahirhussain', 'mohammed', 'mojo', 'mom', 'moment', 'monday', 'mondaymorning', 'mondaymotivation', 'mondaymotivaton', 'mondaythoughts', 'monde', 'monetary', 'money', 'moneybag', 'monger', 'mongering', 'mongeringprovoking', 'mongers', 'monitor', 'monitored', 'monitoring', 'monopoly', 'monster', 'monstrosity', 'monstrous', 'montagu', 'montek', 'month', 'months', 'monthslong', 'monthsshaheenbagh', 'mood', 'moot', 'moral', 'morally', 'morcha', 'morden', 'more', 'morei', 'moreover', 'morever', 'mormon', 'morning', 'morningjoe', 'moron', 'moronic', 'morons', 'moronsã', 'morphing', 'morsel', 'mortality', 'mosha', 'moslem', 'mosley', 'mosque', 'mosques', 'most', 'mostly', 'mota', 'motabhai', 'mote', 'moterastadium', 'mothballing', 'mother', 'motherindia', 'motherland', 'motif', 'motion', 'motivated', 'motive', 'motives', 'motorbike', 'motorcycle', 'moulana', 'mouth', 'mouthed', 'mouthpiece', 'move', 'moved', 'movement', 'movie', 'moving', 'mp', 'mpsmlas', 'mqm', 'mr', 'mrpresident', 'mrwaris', 'ms13', 'msg', 'msm', 'msnbc', 'mssg', 'mst', 'mu', 'much', 'mudassir', 'mughal', 'mughals', 'mujahideen', 'mujibur', 'mukesh', 'mukti', 'mulimz', 'mulla', 'mullah', 'mullis', 'multicultural', 'multinational', 'multiple', 'mum', 'mumbai', 'municipality', 'muralidhar', 'murder', 'murderer', 'murdering', 'murderor', 'musalmankhatremehai', 'muscle', 'mushrooming', 'musicians', 'musli', 'muslim', 'muslimand', 'muslimapeasment', 'muslimblaming', 'muslimcoz', 'muslimhypocrisydoublestandards', 'muslimleague', 'muslimowned', 'muslims', 'muslimsand', 'muslimsjust', 'muslimsðÿ', 'muslimthere', 'muslimummahs', 'muslman', 'mussolini', 'must', 'mustafabad', 'musthafa', 'mustnt', 'mute', 'muted', 'muz', 'muzlim', 'muzlims', 'muzlimz', 'muzz', 'mva', 'my', 'mya', 'myanmar', 'myself', 'mystery', 'myth', 'myyogirocks', 'na', 'nad', 'nadella', 'nadu', 'nagar', 'nagarikata', 'nahe', 'naheru', 'nahi', 'nahin', 'nai', 'nail', 'nailed', 'naive', 'naked', 'nakko', 'nakkoo', 'namashudra', 'namashudras', 'namastetrump', 'namasteytrump', 'name', 'nameajitdoval', 'nameand', 'named', 'namp', 'namstetrump', 'nanis', 'nanne', 'naqvi', 'narcissism', 'narcotic', 'narendra', 'narendramodi', 'narendramodis', 'narmadatentcity', 'narrating', 'narrative', 'nasa', 'naseer', 'naseeruddinshah', 'nat', 'nation', 'national', 'nationalism', 'nationalist', 'nationality', 'nationals', 'nationalsthey', 'nationalylaws', 'nationwide', 'native', 'natl', 'natnal', 'natural', 'naturalisation', 'naturalization', 'naturally', 'nature', 'natwarlal', 'nauaenece', 'nauseating', 'nautanki', 'navy', 'nawhen', 'naxal', 'naxals', 'nazi', 'naziinspired', 'nbc', 'nc', 'ncp', 'ncr', 'ncrb', 'ncrhence', 'nd', 'nda', 'ndelhi', 'ndtv', 'ne', 'near', 'nearly', 'necess', 'necessary', 'necessity', 'neck', 'nee', 'need', 'needed', 'neededðÿ', 'needle', 'neeraj', 'negative', 'negatively', 'negativism', 'negativity', 'neglect', 'negotiate', 'negotiating', 'negotiation', 'nehru', 'nehruliaquat', 'neigbhouring', 'neighbor', 'neighborhood', 'neighboring', 'neighbors', 'neighbouring', 'neighbours', 'neither', 'nepal', 'nepotismand', 'nerd', 'nero', 'neta', 'netaji', 'neurosurgeon', 'neutrality', 'nevadacaucus', 'never', 'nevoicematters', 'new', 'newdelhi', 'newindia', 'newly', 'news', 'news7', 'newsalert', 'newspaper', 'newton', 'next', 'nextgtanti', 'nexus', 'ngo', 'ngos', 'nhi', 'nia', 'niaindia', 'nice', 'nidhi', 'nigaahein', 'night', 'nightmare', 'nike', 'nikli', 'nirbhayabetrayed', 'nirbhayacase', 'nirbhayaconvicts', 'nishaana', 'nit', 'nitish', 'njr', 'nlp', 'no', 'no20812020', 'nobernie', 'noble', 'nobody', 'nocaa', 'nocaanonrc', 'nocaanonrcnonpr', 'noida', 'noidafaridabad', 'noindiancitizenaffected', 'noise', 'nojobsregister', 'nomore', 'non', 'nonbjp', 'noncitizen', 'noncooperation', 'none', 'nonindian', 'nonissue', 'nonmuslim', 'nonmuslims', 'nonpr', 'nonrc', 'nonsense', 'nontribals', 'nook', 'nopes', 'noprotection', 'nor', 'noreservation', 'noreservations', 'norm', 'normal', 'normalcy', 'normalise', 'normalize', 'north', 'northeast', 'northeastdelhi', 'northeastdelhiviolence', 'northern', 'northernpowerhouse', 'nose', 'not', 'note', 'noteban', 'notebandi', 'noted', 'nothing', 'notice', 'noticed', 'notification', 'notified', 'notifiedin', 'notimex', 'notion', 'notocaanrcnpr', 'nought', 'nov', 'now', 'nowbanthebook', 'np', 'npa', 'npc', 'npp', 'npr', 'nprboycottã', 'nprnrc', 'nprperspective', 'nprstop', 'nprà', 'nprâ', 'nr', 'nrc', 'nrccaa', 'nrccaanpr', 'nrccaanprprotest', 'nrccaaprotest', 'nrci', 'nrcnpr', 'nrcprotest', 'nrcshaheenbagh', 'nrcà', 'nric', 'nris', 'nrp', 'nsg', 'nt', 'nuclear', 'nuisance', 'number', 'numeric', 'numerous', 'nut', 'nutshell', 'nv', 'ny', 'ny2020', 'nyt', 'nytimes', 'nzvind', 'nzvsind', 'obama', 'obc', 'obesity', 'objctn', 'object', 'objected', 'objection', 'objective', 'observe', 'observer', 'obstruct', 'obstructing', 'obtain', 'obtaining', 'obvious', 'obviously', 'oc', 'occasion', 'occupant', 'occupation', 'occupied', 'occupying', 'occurred', 'od', 'odd', 'odds', 'odia', 'odisha', 'of', 'ofcourse', 'off', 'offer', 'offical', 'office', 'officer', 'official', 'officially', 'ofprotests', 'often', 'oh', 'oic', 'oil', 'ok', 'okay', 'okhla', 'old', 'oldest', 'oman', 'omg', 'ominous', 'omit', 'omitted', 'on', 'once', 'one', 'onenation', 'oneness', 'oneplease', 'onesided', 'ongoing', 'onion', 'online', 'only', 'onlythere', 'onnrccaa', 'onslaught', 'onto', 'onus', 'onâ', 'op', 'open', 'opened', 'opening', 'openly', 'operandi', 'operate', 'operating', 'opinion', 'oppn', 'opponent', 'opportunity', 'oppos', 'oppose', 'opposeboycott', 'opposecaa', 'opposed', 'opposes', 'opposi', 'opposin', 'opposing', 'opposite', 'opposition', 'oppress', 'oppressed', 'oppression', 'oppressive', 'oppressor', 'opressors', 'optic', 'option', 'or', 'orchestrated', 'orchestrating', 'order', 'ordered', 'ordinary', 'organisation', 'organise', 'organised', 'organization', 'organized', 'organizer', 'orgy', 'oriental', 'origin', 'original', 'originated', 'originating', 'orphan', 'orthodox', 'osbt', 'ossified', 'ostrich', 'ot', 'oth', 'other', 'others', 'otherwise', 'othr', 'ought', 'our', 'ours', 'ourselves', 'out', 'out15', 'outburst', 'outcome', 'outer', 'outlawed', 'outnumber', 'output', 'outrage', 'outraged', 'outreach', 'outright', 'outrightly', 'outside', 'outsider', 'outsiders', 'outsight', 'outsourced', 'outward', 'over', 'overall', 'overcome', 'overdue', 'overnight', 'overpower', 'overreact', 'oversaw', 'overseas', 'overthrow', 'overthrown', 'overtime', 'overtone', 'overturned', 'overweight', 'owaisi', 'owaisikawaris', 'owaisis', 'owe', 'own', 'owner', 'ownership', 'oxyg', 'oxymoron', 'pa', 'paani', 'pacifist', 'pack', 'packhindu', 'pact', 'padegi', 'padh', 'padhai', 'padta', 'padunga', 'padva', 'page', 'paid', 'pain', 'painful', 'painfully', 'paint', 'painted', 'painter', 'painting', 'pak', 'paki', 'pakishaitan', 'pakista', 'pakistan', 'pakistanbangladesh', 'pakistanbdafghanistan', 'pakistani', 'pakistaniterror', 'pakistanzin', 'pakistanzindabad', 'pakistn', 'palaniswamy', 'palestine', 'palestinian', 'paltry', 'pampered', 'pan', 'panalist', 'pandits', 'panel', 'pani', 'panic', 'panicked', 'panjim', 'pant', 'paper', 'papistan', 'pappa', 'par', 'para', 'paradise', 'parameter', 'paramilitary', 'paranoid', 'parent', 'paris', 'parivar', 'park', 'parkash', 'parl', 'parli', 'parliament', 'parliamentary', 'parrys', 'parshuram', 'parsi', 'part', 'parta', 'partial', 'partiality', 'partially', 'participate', 'particular', 'particularly', 'partied', 'parties', 'partisan', 'partition', 'partly', 'partner', 'party', 'pas', 'pashtun', 'paso', 'passage', 'passed', 'passenger', 'passing', 'passive', 'passively', 'passport', 'past', 'pastcriminal', 'pata', 'patch', 'path', 'pathan', 'pathetic', 'pathfinder', 'patience', 'patient', 'patriarchic', 'patriot', 'patriotic', 'patrioticindianssupportcaa', 'patriotism', 'patrol', 'patrolling', 'patronage', 'patronagepmmodi', 'patronisation', 'pattern', 'paving', 'pawn', 'paxtan', 'pay', 'payal', 'payer', 'paying', 'payng', 'payroll', 'pc', 'pcb', 'pctv', 'pe', 'pea', 'peace', 'peacedeal', 'peacef', 'peacefools', 'peaceful', 'peacefully', 'peacefullyâ', 'peacefuls', 'peacekeeping', 'peaceplease', 'peak', 'pebble', 'peddle', 'peddled', 'peddling', 'peejay', 'pelt', 'pelted', 'pelter', 'pelting', 'pending', 'peo', 'peop', 'people', 'peoplegdarbari', 'peopleofindia', 'peopleopposition', 'peoplesonly', 'per', 'perceive', 'perceived', 'percentage', 'perception', 'perfect', 'perfectly', 'performance', 'perhaps', 'period', 'perishing', 'perks', 'permanent', 'permission', 'permit', 'permitted', 'perpetrated', 'perpetrator', 'perpetuated', 'persectution', 'persecute', 'persecuted', 'persecutedminority', 'persecutedminorityrefugees', 'persecuting', 'persecution', 'persecutor', 'persform', 'persia', 'person', 'personal', 'personalities', 'personality', 'personally', 'perspective', 'persucated', 'pertain', 'pet', 'petition', 'petrol', 'petrolà', 'petrolã', 'pfi', 'pganda', 'phase', 'philistine', 'philly', 'phne', 'phone', 'photo', 'phrase', 'physical', 'physically', 'pick', 'picked', 'picnic', 'picture', 'piece', 'pig', 'piggyback', 'pigs', 'pil', 'pilibhit', 'pillar', 'pilling', 'pimp', 'pin', 'pinch', 'pink', 'pipeline', 'pissful', 'pissfulreligion', 'pissfuls', 'pkafbd', 'pkmkb', 'pkmkbforever', 'pl', 'place', 'placed', 'plain', 'plan', 'planet', 'planned', 'planning', 'plans', 'plant', 'planted', 'planting', 'platform', 'plating', 'play', 'played', 'playing', 'plea', 'pleaded', 'pleadingasking', 'please', 'pleased', 'pleasedmay', 'pleasure', 'pledged', 'plenty', 'plight', 'plot', 'pls', 'plu', 'plug', 'pluralism', 'plus', 'plz', 'plzz', 'plzâ', 'pm', 'pmimrankhan', 'pmmodi', 'pmo', 'pmofgujarat', 'pmoindia', 'pmq', 'pmtrust', 'pmâ', 'pmðÿ', 'po', 'pocket', 'podcast', 'poeple', 'pogrom', 'pogrom2020', 'point', 'pointed', 'pointing', 'poisoning', 'pok', 'poke', 'poking', 'pol', 'poland', 'polarisation', 'polarise', 'polarising', 'polarization', 'polarize', 'polarizing', 'poli', 'polic', 'police', 'policeman', 'policing', 'policy', 'polio', 'polish', 'politcal', 'political', 'politically', 'politicallymotivated', 'politician', 'politicians', 'politicised', 'politicize', 'politicized', 'politico', 'politicos', 'politics', 'poll', 'pollution', 'pond', 'poochhiye', 'poor', 'poora', 'poorest', 'poorly', 'pop', 'popu', 'popular', 'popularity', 'populatio', 'population', 'populationcontrol', 'populationcontrolbill', 'populationcontrollaw', 'porkistan', 'portfolio', 'portion', 'portray', 'pose', 'posed', 'positio', 'position', 'positive', 'positively', 'posse', 'possibility', 'possible', 'post', 'posted', 'poster', 'posting', 'postpone', 'postponed', 'postpones', 'potect', 'potential', 'potus', 'poverty', 'power', 'powerful', 'powerhungry', 'powers', 'ppl', 'pr', 'prabhu', 'pracharak', 'practicalization', 'practically', 'practice', 'practicing', 'pradesh', 'pradhan', 'prairie', 'praised', 'praiseworthy', 'praising', 'prajapati', 'pramod', 'pratap', 'prateek', 'praveshverma', 'pray', 'pray4moslemindia', 'prayer', 'prblm', 'prc', 'pre', 'preach', 'preaching', 'preamble', 'precautionary', 'preceded', 'precious', 'precisely', 'precursor', 'predicted', 'predominant', 'preference', 'pregnancy', 'pregnant', 'preliminary', 'premise', 'preparation', 'prepare', 'prepared', 'preparedattested', 'preparing', 'preplanned', 'prescribed', 'presence', 'present', 'presented', 'preserve', 'preserving', 'president', 'presidential', 'press', 'pressconference', 'presstitutes', 'pressure', 'pressuring', 'prestitutes', 'pretence', 'pretending', 'pretext', 'pretty', 'prevail', 'prevailed', 'prevailing', 'prevalent', 'prevelant', 'prevent', 'prevented', 'previous', 'previously', 'prey', 'prez', 'price', 'pride', 'priest', 'prima', 'primarily', 'primary', 'prime', 'primeminister', 'principle', 'principled', 'priniciples', 'print', 'prior', 'prioritized', 'priority', 'prioritydelhiisburning', 'prism', 'prison', 'pritest', 'prithvi', 'prithvishaw', 'privacy', 'private', 'privilege', 'privileged', 'priyanka', 'pro', 'proactive', 'prob', 'probably', 'probe', 'problem', 'problemfor', 'procaa', 'procaaprotesters', 'procedure', 'process', 'procession', 'produce', 'produced', 'producer', 'producers', 'producing', 'product', 'productive', 'prof', 'professing', 'professoryou', 'profile', 'profit', 'profitable', 'program', 'programme', 'progress', 'progressive', 'project', 'projected', 'prominent', 'prominently', 'promise', 'promised', 'promote', 'promoted', 'promoter', 'promoting', 'promotion', 'promptinaction', 'proof', 'prooragainst', 'prop', 'propagana', 'propaganda', 'propagandaits', 'propagandist', 'propagandists', 'propagate', 'propagating', 'propaki', 'propakistan', 'propelled', 'proper', 'properies', 'properly', 'propertieswill', 'property', 'propganda', 'propoganda', 'propogate', 'propogating', 'proposal', 'proposed', 'prosecuted', 'prot', 'prote', 'protect', 'protecting', 'protection', 'protector', 'protects', 'protes', 'protest', 'protestagainstanticaa', 'protestblock', 'protestby', 'proteste', 'protested', 'protester', 'protesters', 'protestersnow', 'protestersâ', 'protesting', 'protestingrioting', 'protestit', 'protesto', 'protestor', 'protestors', 'protestorsthey', 'protests', 'protestsadly', 'protesttrumpvisit', 'protetsors', 'proud', 'proudtobeanassamese', 'prove', 'proved', 'proven', 'provid', 'provide', 'provided', 'provides', 'providing', 'province', 'proving', 'provision', 'provisions', 'provking', 'provocation', 'provocative', 'provoke', 'provoked', 'provoker', 'provokes', 'provoking', 'psa', 'pse', 'pseudo', 'pseudodemocratic', 'pseudojournalism', 'psswarabhaskar', 'psu', 'psuedos', 'psychopath', 'pta', 'pti', 'public', 'publication', 'publicity', 'publicly', 'publicradio', 'publish', 'publishing', 'puking', 'pulling', 'pulwama', 'pump', 'pun', 'punch', 'punchlines', 'puncture', 'punish', 'punished', 'punishing', 'punishmnt', 'punjab', 'punjabcm', 'punk', 'puppet', 'pura', 'purchased', 'pure', 'purge', 'puri', 'purport', 'purpos', 'purpose', 'purposefully', 'purposely', 'pursue', 'push', 'pushing', 'pussyfooting', 'put', 'putin', 'putting', 'puzzling', 'pvt', 'qanon', 'qasem', 'qts', 'qualified', 'quality', 'quammunist', 'quan', 'quantumleap', 'quarantine', 'queer', 'quenches', 'ques', 'quest', 'question', 'questioned', 'questioning', 'questionoftheday', 'questions', 'queue', 'quick', 'quickly', 'quiet', 'quilt', 'quit', 'quite', 'quitindiamodi', 'quoran', 'quota', 'quote', 'quoted', 'quoteoftheday', 'raam', 'rabid', 'race', 'racebaiting', 'racist', 'radi', 'radic', 'radical', 'radicalisation', 'radicalised', 'radicalislam', 'radicalislamicterror', 'radicalislamicterrorism', 'radicalislamicterrorist', 'radicalize', 'radicalized', 'radicals', 'radilcalized', 'radio', 'radioto', 'raees', 'raf', 'rafale', 'raha', 'rahe', 'rahega', 'rahegaits', 'rahmans', 'rahul', 'rahulgandhi', 'raid', 'raids', 'railing', 'railway', 'rain', 'rained', 'raise', 'raised', 'raising', 'rajan', 'rajasthan', 'rajdeep', 'rajdeepsardesai', 'rajeev', 'rajini', 'rajinikanth', 'rajinikanthslamscentre', 'rajivgandhi', 'rajmata', 'rajni', 'rajnikant', 'rajnikanth', 'raked', 'rakesh', 'rallie', 'rallies', 'rally', 'rallying', 'ram', 'ramachandran', 'ramana', 'ramasubramanian', 'ramasubramaniyan', 'ramayan', 'ramble', 'ramjanmbhoomiverdict', 'ramjanmbhumi', 'ramlila', 'rammandir', 'rampage', 'ramtemple', 'ran', 'rana', 'random', 'randomly', 'range', 'ransack', 'ransom', 'ransomenough', 'rao', 'rape', 'raped', 'raping', 'rapist', 'rarely', 'rascal', 'rascals', 'rashtra', 'rashtrapati', 'rashtravaad', 'rashtriya', 'rat', 'ratan', 'ratanlal', 'ratanlalshaheed', 'rate', 'rather', 'ration', 'rational', 'rationale', 'rationalistic', 'rationally', 'ravaan', 'ravan', 'raver', 'ravishkumar', 'raw', 'raza', 'rbudayakumar', 'rdrawing', 're', 'rea', 'reach', 'reached', 'reaching', 'react', 'reacting', 'reaction', 'read', 'reading', 'ready', 'real', 'realiable', 'realisation', 'realise', 'realised', 'realising', 'reality', 'realize', 'really', 'reallythen', 'reas', 'reaso', 'reason', 'reasonable', 'reasons', 'reb', 'rebel', 'rebelif', 'rebellion', 'rebuking', 'recall', 'received', 'recent', 'recently', 'recipe', 'reclaim', 'reclouse', 'recognise', 'recognises', 'reconsider', 'record', 'recorded', 'recourse', 'recover', 'recovered', 'rectified', 'rectifies', 'rectify', 'red', 'redalert', 'redefinition', 'redressalremedy', 'reduce', 'reduced', 'reelected', 'refer', 'reference', 'referendum', 'reflect', 'reflects', 'reform', 'refuge', 'refugee', 'refugees', 'refuse', 'refused', 'refusing', 'regard', 'regarded', 'regarding', 'regardless', 'regime', 'region', 'register', 'registered', 'registeri', 'registration', 'registry', 'regretted', 'regrouping', 'regstn', 'regular', 'regularly', 'rehashed', 'rehmani', 'rehna', 'rehti', 'reiterate', 'reiterated', 'reject', 'rejectcaanrcnpr', 'rejected', 'rejectnpr', 'rel', 'related', 'relating', 'relation', 'relationshionships', 'relationship', 'relative', 'relatively', 'relax', 'relaxed', 'release', 'released', 'releasing', 'relent', 'relentless', 'relentlessly', 'relevant', 'reliable', 'relief', 'relig', 'religio', 'religion', 'religioncommunity', 'religiondivides', 'religionist', 'religions', 'religionwhat', 'religious', 'religiously', 'remain', 'remaining', 'remains', 'remark', 'remarkably', 'remarked', 'remember', 'reminds', 'remote', 'remotely', 'removal', 'remove', 'removearticle30', 'removed', 'removeshaheenbagh', 'removing', 'renaissance', 'render', 'renowned', 'reopened', 'repair', 'repairing', 'repay', 'repeal', 'repeat', 'repeated', 'repeatedly', 'repeating', 'repel', 'repercussion', 'replay', 'replicate', 'reply', 'replying', 'repo', 'report', 'reported', 'reporter', 'reporting', 'repost', 'represent', 'representation', 'representative', 'represented', 'representing', 'represents', 'republic', 'republican', 'reputation', 'reqd', 'request', 'requested', 'requesting', 'require', 'required', 'required2', 'requirement', 'requiring', 'rescinded', 'rescue', 'rese', 'research', 'resentment', 'reservation', 'reservationbyreligion', 'reservations', 'reserve', 'reserved', 'reside', 'residence', 'residency', 'resident', 'residents', 'residing', 'resign', 'resist', 'resistance', 'resistcaaampnrc', 'resisted', 'resolutio', 'resolution', 'resolve', 'resolved', 'resorted', 'resource', 'resp', 'respect', 'respectable', 'respected', 'respectfully', 'respective', 'respite', 'respond', 'responded', 'respondent', 'responds', 'response', 'responsib', 'responsibilities', 'responsibility', 'responsible', 'rest', 'resting', 'restless', 'restore', 'restored', 'restraint', 'restriction', 'restricts', 'result', 'resulted', 'resulting', 'resume', 'retained', 'retaliate', 'retarded', 'rethink', 'rethinking', 'retired', 'retirement', 'retorting', 'retract', 'retrospect', 'return', 'returned', 'retweet', 'reuters', 'revamp', 'revealed', 'revealing', 'reveals', 'revenge', 'reverse', 'reverts', 'reviving', 'revocation', 'revoke', 'revokecaa', 'revoked', 'revolt', 'revolution', 'revolutionary', 'reward', 'rey', 'rglaunchfailagain', 'rha', 'rhe', 'rhetoric', 'rho', 'ri', 'rice', 'rich', 'rid', 'rider', 'ridiculing', 'ridiculous', 'righnow', 'right', 'right1n', 'rightful', 'rightfully', 'rightly', 'rightmatters', 'rights', 'rightwing', 'rio', 'riot', 'rioteer', 'rioteers', 'riotenabblers', 'rioter', 'riotersand', 'rioting', 'riotors', 'riotreality', 'riots', 'rip', 'rips', 'rise', 'rishabhpant', 'rising', 'risk', 'risking', 'ro', 'road', 'roadblock', 'roadblockissues', 'roadnot', 'roads', 'roamed', 'roaming', 'roarwithpride', 'roble', 'robust', 'rock', 'rocket', 'rods', 'roger', 'rogerstone', 'rogue', 'rohingya', 'rohingyas', 'roi', 'roits', 'role', 'roll', 'rolled', 'rolling', 'rome', 'roof', 'root', 'rose', 'rote', 'rote10reena', 'roti', 'rough', 'round', 'roundtable', 'route', 'routine', 'row', 'rowdy', 'royally', 'rr', 'rs', 'rss', 'rssgoons', 'rssgroomed', 'rssisterroristorganization', 'rt', 'rti', 'rtw', 'rubai', 'rubika', 'rubikaji', 'rubikaliy', 'rubikaliyaqat', 'rubikaliyaquat', 'rubikaâ', 'ruckus', 'rudabeh', 'rudabehs', 'ruin', 'ruined', 'rule', 'rulebill', 'rulebook', 'ruled', 'rules', 'rulesrequirement', 'ruling', 'rulingelites', 'rumor', 'rumour', 'run', 'running', 'ruots', 'rupa', 'rupaji', 'rupee', 'rural', 'ruse', 'rush', 'rushed', 'rushlimbaugh', 'russia', 'ruthless', 'ruthlessly', 'rw', 'sab', 'saba', 'sabha', 'sabotage', 'sach', 'sachin', 'sachintendulkar', 'sacking', 'sacrifice', 'sad', 'sadafjafar', 'saddened', 'saddening', 'sadhana', 'sadhavi', 'sadhu', 'sadistic', 'sadly', 'saeed', 'safe', 'safeguard', 'safely', 'safer', 'safest', 'safety', 'saffron', 'safron', 'sagarikaghose', 'saheen', 'saheenbagh', 'saheenbaghprotest', 'saheenbaugh', 'sahinbag', 'said', 'saint', 'sajid', 'sakal', 'sakalmedia', 'sakalnews', 'sakaltimes', 'sakda', 'sake', 'sakte', 'salary', 'sale', 'salman', 'salute', 'sam', 'samajh', 'samajhdar', 'samajhiye', 'sambit', 'same', 'samething', 'samgh', 'samjha', 'samjhiye', 'sanatan', 'sanathanadharma', 'sanction', 'sanctioned', 'sander', 'sane', 'sangh', 'sanghi', 'sanghis', 'sangis', 'sanity', 'sanjay', 'sant', 'sapiens', 'sara', 'sarcasm', 'sardesai', 'saree', 'sarkar', 'sarted', 'sat', 'satellite', 'satisfy', 'satta', 'saturdaythoughts', 'satya', 'satyagraha', 'saudi', 'savarna', 'save', 'saved', 'savedelhihindus', 'savedemocra', 'saveelectoraldemocracy', 'savehindus', 'saveindia', 'saving', 'savior', 'saw', 'sawant', 'say', 'saying', 'saynotonpr', 'saynotonprcaanrc', 'saynottonpr', 'saynrc', 'says', 'sayyestonpr', 'sb', 'sbag', 'sc', 'scale', 'scandal', 'scare', 'scared', 'scaremongering', 'scary', 'scenario', 'schedule', 'scheduled', 'scheme', 'scholar', 'school', 'schools', 'sci', 'science', 'scope', 'score', 'scotroi', 'scott', 'scoundrel', 'scrap', 'scrapped', 'scrapping', 'scratching', 'scream', 'screen', 'screw', 'screwconstitution', 'screwed', 'script', 'scrolling', 'scrutiny', 'scumbags', 'scuttle', 'sd', 'se', 'seal', 'sealed', 'search', 'season', 'seat', 'seating', 'seattle', 'seayamsevaks', 'sec', 'sec144', 'secessionist', 'second', 'secondary', 'secondly', 'secret', 'secretary', 'secretarygeneral', 'sect', 'sectarian', 'sectio', 'section', 'secular', 'secularif', 'secularism', 'secularist', 'secules', 'secure', 'secured', 'security', 'sedition', 'see', 'seed', 'seeded', 'seeing', 'seek', 'seeking', 'seelampur', 'seem', 'seemapuri', 'seemed', 'seeming', 'seems', 'seen', 'segment', 'segued', 'seizes', 'seizure', 'seking', 'selective', 'selectively', 'self', 'selfinvolved', 'selfish', 'selflessness', 'selfrespect', 'sell', 'selling', 'sen', 'senario', 'senator', 'send', 'sending', 'sends', 'senetors', 'senior', 'sense', 'senseless', 'sensible', 'sensitise', 'sensitive', 'sensus', 'sent', 'sentiment', 'separate', 'separately', 'separatism', 'seperate', 'sequence', 'serf', 'series', 'serious', 'seriously', 'sermonizing', 'servant', 'serve', 'service', 'servicedfssaid', 'session', 'set', 'setting', 'settl', 'settle', 'settled', 'seven', 'several', 'severe', 'sew', 'sh', 'sha', 'shabana', 'shabd', 'shady', 'shaeenbaug', 'shah', 'shahbano', 'shaheed', 'shaheen', 'shaheenabagh', 'shaheenb', 'shaheenbagh', 'shaheenbaghchaos', 'shaheenbaghcollapse', 'shaheenbaghgohome', 'shaheenbaghgulbarga', 'shaheenbaghkisherni', 'shaheenbaghprotest', 'shaheenbaghprotestm', 'shaheenbaghprotestors', 'shaheenbaghprotests', 'shaheenbaghs', 'shaheenbaghsham', 'shaheenbhag', 'shaheenendgame', 'shahi', 'shahibag', 'shahid', 'shahin', 'shahinbagh', 'shahinbaghprotest', 'shahrukh', 'shahrukhkhan', 'shahrukhmuslimterrorist', 'shain', 'shaking', 'shall', 'shame', 'shameful', 'shameless', 'shamelessly', 'shameoncongress', 'shameondelhipolice', 'shameonindia', 'shameonthem', 'shameonyou', 'shameonyoumodi', 'shamshaheenbagh', 'shankar', 'shanti', 'shantidoots', 'shapat', 'shapath', 'shape', 'sharadpawar', 'share', 'shared', 'sharia', 'sharing', 'sharjeel', 'sharjeelimam', 'sharma', 'sharmila', 'sharp', 'sharply', 'sharukh', 'sharukhterrorist', 'shattered', 'shaw', 'shd', 'she', 'shed', 'sheela', 'sheer', 'sheik', 'shelling', 'shelter', 'sher', 'shes', 'shield', 'shielding', 'shift', 'shifted', 'shikh', 'shillong', 'shillonggenocide2020', 'shim', 'ship', 'shirked', 'shit', 'shithole', 'shitty', 'shivaji', 'shivering', 'shld', 'sho', 'shocked', 'shocking', 'shoe', 'sholay', 'shooked', 'shoot', 'shootatsight', 'shooting', 'shop', 'shops', 'shopsvehicles', 'short', 'shortawave', 'shot', 'should', 'shoulder', 'shouldnt', 'shout', 'shouted', 'shouting', 'show', 'showcased', 'showed', 'showing', 'shown', 'showroom', 'shree', 'shri', 'shrine', 'shringla', 'shud', 'shudra', 'shudras', 'shun', 'shut', 'shutdownshaheenbagh', 'shutter', 'shutting', 'shwetasingh', 'si', 'sialkot', 'sibal', 'sibling', 'sicial', 'sick', 'sickened', 'sickening', 'sickliberalleftistspolitics', 'sickmedia', 'sickness', 'sicktard', 'sickular', 'sickulars', 'side', 'sided', 'sideded', 'sidestepping', 'sidhearts', 'siding', 'siege', 'sigh', 'sight', 'sign', 'signaling', 'signals', 'signature', 'signed', 'signing', 'sikh', 'sikhchristianjain', 'sikhs', 'silence', 'silent', 'silently', 'similar', 'similarity', 'similarly', 'simon', 'simple', 'simpler', 'simpleœâ', 'simplified', 'simplistic', 'simply', 'simultaneouslyyou', 'sin', 'since', 'sincere', 'sindhi', 'singh', 'singing', 'single', 'singular', 'sinister', 'sir', 'sirf', 'siri', 'sirphire', 'sisodiya', 'sister', 'sisuation', 'sit', 'site', 'sitting', 'situation', 'six', 'sixer', 'sk', 'skewed', 'skill', 'skilled', 'skin', 'skinned', 'skta', 'skull', 'slam', 'slanderindiaplot', 'slanderplotflops', 'slap', 'slapping', 'slave', 'slaving', 'sleep', 'sleeper', 'sleeping', 'slew', 'slide', 'slightly', 'slip', 'slo', 'slogan', 'slogans', 'sloganwhen', 'slovakia', 'slow', 'slowdown', 'slowly', 'sly', 'sm', 'smackdown', 'small', 'smart', 'smarted', 'smarter', 'smartphones', 'sme', 'smear', 'smell', 'smh', 'smjh', 'smjhna', 'smoke', 'smoothly', 'smugglers', 'snake', 'snap', 'snarkily', 'snatch', 'snatched', 'snic', 'sniffer', 'snippet', 'snowballed', 'snub', 'snubbed', 'so', 'soc', 'socalled', 'social', 'socialism', 'socialist', 'socially', 'sociallyhypedactivism', 'societies', 'society', 'socio', 'soft', 'software', 'soil', 'sold', 'soldier', 'sole', 'soleimani', 'solely', 'solicitor', 'solid', 'solidarity', 'soluble', 'solution', 'solve', 'solved', 'somany', 'some', 'somebody', 'someday', 'somehow', 'someone', 'something', 'somethingwhat', 'sometime', 'sometimes', 'somewhat', 'somewhere', 'son', 'sonam', 'sonbhadra', 'song', 'sonia', 'soniagandhi', 'sons', 'soo', 'soon', 'sooner', 'soonest', 'sooo', 'soort', 'soros', 'sorry', 'sort', 'sosdelhi', 'sought', 'soul', 'soulful', 'sound', 'soundbites', 'sounded', 'sour', 'source', 'south', 'sovereign', 'sovereignty', 'soverign', 'sp', 'space', 'spain', 'span', 'spare', 'spared', 'spark', 'sparked', 'spawn', 'speak', 'speaking', 'speaks', 'speakup', 'special', 'specialised', 'specially', 'specie', 'species', 'specific', 'specifichence', 'specify', 'speculate', 'speculation', 'speech', 'speed', 'speedy', 'spell', 'spelled', 'spend', 'spent', 'spewing', 'spews', 'spilled', 'spilling', 'spin', 'spine', 'spiral', 'spirit', 'spiritual', 'spite', 'spitting', 'spoil', 'spoiling', 'spoke', 'spoken', 'spokesperson', 'sponsor', 'sponsored', 'sponsorsfinanciers', 'spot', 'spr', 'spray', 'spraying', 'spread', 'spreaded', 'spreading', 'spree', 'spring', 'sprinkle', 'sprtly', 'spun', 'squabble', 'square', 'squarely', 'squatter', 'squatting', 'squeal', 'sr', 'sreenivasan', 'sri', 'srilanka', 'sriya', 'srk', 'st', 'stab', 'stabbed', 'stage', 'staged', 'stake', 'stalin', 'stalker', 'stall', 'stamped', 'stan', 'stance', 'stand', 'standagainstshaheenbagh', 'standard', 'standing', 'star', 'stars', 'start', 'started', 'starting', 'starve', 'state', 'stated', 'stateless', 'statement', 'statemnt', 'statescaa', 'statesâ', 'stateyour', 'stating', 'station', 'stations', 'stats', 'status', 'stay', 'stayed', 'staying', 'ste', 'steadfast', 'steadfastly', 'steadily', 'steam', 'steer', 'stemming', 'step', 'stepdown', 'stephen', 'stephenson', 'stepping', 'stern', 'sternly', 'stfu', 'sth', 'sti', 'stick', 'sticker', 'sticks', 'stigmatize', 'still', 'stine', 'stmnt', 'stock', 'stockstotrade', 'stoke', 'stone', 'stonepelters', 'stonepeltin', 'stones', 'stonewalls', 'stonrpelting', 'stood', 'stooge', 'stop', 'stopnpr', 'stopped', 'stopping', 'stopprovocation', 'stopviolenceindelhi', 'story', 'stpants', 'str', 'straight', 'strange', 'stranger', 'strategic', 'strategically', 'strategy', 'stray', 'streaming', 'streamline', 'street', 'streets', 'strength', 'strengthen', 'strengthens', 'stretch', 'stretching', 'strict', 'strictly', 'strike', 'strikeswhy', 'striking', 'stringent', 'stripped', 'strong', 'stronger', 'strongest', 'strongly', 'struck', 'structure', 'struggle', 'struggling', 'stubborn', 'stuck', 'student', 'students', 'studied', 'study', 'stuff', 'stunt', 'stupid', 'stupidest', 'stupidity', 'stupidsofindianpolitics', 'style', 'styled', 'su', 'subbed', 'subco', 'subcontinent', 'subgroup', 'subje', 'subject', 'subjecting', 'submit', 'submitting', 'subramanian', 'subsequent', 'subservevents', 'subsided', 'subsidies', 'subtitle', 'suburb', 'succedednarendramodi', 'succeed', 'succeeded', 'success', 'successful', 'successfully', 'succour', 'such', 'suck', 'sucked', 'sucking', 'suckling', 'sudden', 'suddenly', 'suffer', 'suffered', 'suffering', 'suffice', 'sufficient', 'suffixed', 'sufi', 'sugar', 'suggest', 'suggested', 'suggesting', 'suggestion', 'suggests', 'sugriv', 'suit', 'sullo', 'sumanth', 'summer', 'summoning', 'sumup', 'sunday', 'sundaymotivation', 'sundaythoughts', 'sunil', 'sunni', 'sunnyleone', 'sunshine', 'suomoto', 'sup', 'super', 'superb', 'supercrooked', 'superheroes', 'superpower', 'superstar', 'supp', 'suppieting', 'suppo', 'support', 'supportcaa', 'supported', 'supporter', 'supporters', 'supportersvoters', 'supporting', 'supportnrc', 'suppose', 'supposed', 'supposedly', 'suppressed', 'suppressing', 'suppression', 'supprt', 'supramacists', 'supremacist', 'supremacy', 'supreme', 'supremecourt', 'supremecourtofindia', 'supremedo', 'supremely', 'sure', 'surely', 'surgeon', 'surgical', 'suri', 'surprise', 'surprised', 'surprising', 'surprisingly', 'surreptitiously', 'survival', 'survive', 'survivor', 'sushant', 'suspect', 'suspected', 'suspectâ', 'suspenddelhigovt', 'suspended', 'suspending', 'sustaining', 'suvars', 'swacchbharat', 'swar', 'swara', 'swarabhaskar', 'swarabhasker', 'swaraexposed', 'swatch', 'swatchbharatthabhiyan', 'swayamsevak', 'sweat', 'sweet', 'sweetheart', 'swelling', 'swift', 'swung', 'syappa', 'syed', 'syeing', 'symbol', 'symmetry', 'symp', 'sympathy', 'symphony', 'symptom', 'syria', 'syrian', 'system', 'systematic', 'systematically', 'systemic', 'syster', 'taar', 'table', 'tabloid', 'tackle', 'tackled', 'tacti', 'tactic', 'tag', 'taher', 'tahir', 'tahirhussain', 'tahirhussainaapkaterrorist', 'tahirhussainterrorist', 'tahirhussians', 'tahirkada', 'tahseen', 'taiyar', 'tajmahal', 'take', 'taken', 'taking', 'talak', 'talaq', 'talent', 'talented', 'taliban', 'talk', 'talked', 'talkes', 'talking', 'talwant', 'tamasha', 'tamghaishujaat', 'tamil', 'tamilnadu', 'tamper', 'tanaji', 'tank', 'tarah', 'target', 'targeted', 'targeting', 'targets', 'tarikh', 'tarnish', 'task', 'tasty', 'tat', 'tattoo', 'taught', 'tauseef', 'tax', 'taxpayer', 'taxpayersmoney', 'tbh', 'tdos', 'tea', 'teach', 'teacher', 'teaching', 'team', 'tear', 'teardown', 'technology', 'tee', 'teen', 'telangana', 'telegram', 'telengana', 'television', 'tell', 'telling', 'temple', 'temples', 'templew', 'temporary', 'tends', 'tendulkar', 'tension', 'ter', 'term', 'terminated', 'termite', 'terrible', 'terribly', 'terric', 'terrific', 'terrified', 'territory', 'terror', 'terrorattack', 'terrorise', 'terrorising', 'terrorism', 'terrorisoopspakistanis', 'terrorist', 'terroristan', 'terroristsinburka', 'terroristsright', 'test', 'tested', 'testing', 'text', 'tf', 'tghe', 'th', 'tha', 'thackeray', 'thakur', 'thalaiva', 'thalaivar', 'thalaivar169', 'thalapathy', 'thali', 'than', 'thank', 'thankful', 'thanks', 'thanku', 'thankyou', 'thappad', 'that', 'thats', 'thaugts', 'thay', 'the', 'theatres', 'theft', 'their', 'theirs', 'thekashmirfiles', 'them', 'themajoritarians', 'themhindugenocide', 'themok', 'themself', 'themselves', 'then', 'theocratic', 'theological', 'theory', 'therapist', 'there', 'therefore', 'thermal', 'thes', 'these', 'thesecaa', 'theseshelters', 'thesewe', 'thewall', 'they', 'theyhavenotreaddraft', 'theyll', 'theyre', 'theyve', 'theâ', 'thg', 'thi', 'thick', 'thief', 'thier', 'thik', 'thin', 'thing', 'thingdoes', 'thingsfirst', 'thingthis', 'think', 'thinking', 'third', 'thirsty', 'this', 'thisðÿ', 'thm', 'thn', 'tho', 'thodi', 'thomascook', 'thorn', 'those', 'though', 'thought', 'thousand', 'thr', 'thrashing', 'thread', 'threat', 'threaten', 'threatened', 'threatening', 'threatens', 'three', 'threw', 'thriving', 'throat', 'throu', 'through', 'throughout', 'throw', 'throwed', 'throwing', 'thrown', 'thru', 'tht', 'thug', 'thuggery', 'thursday', 'thursdaythoughts', 'thus', 'thy', 'tick', 'tied', 'tight', 'tighten', 'tightly', 'tilak', 'tilaknagar', 'till', 'timbound', 'time', 'timeline', 'timely', 'times', 'timeu', 'timid', 'timing', 'tinka', 'tiny', 'tip', 'tiranga', 'tired', 'title', 'tiwari', 'tk', 'tl', 'tmc', 'tmw', 'tn', 'to', 'to11', 'todate', 'today', 'todaypetition', 'todayâ', 'toe', 'together', 'togetherâ', 'toh', 'tohðÿ', 'toilet', 'told', 'tolerant', 'tolerate', 'tolerated', 'tolerating', 'toll', 'tom', 'tomatovender', 'tomorrow', 'tone', 'tongue', 'tonic', 'tonight', 'too', 'toobut', 'took', 'tool', 'tooooooo', 'toothless', 'top', 'topi', 'topic', 'topple', 'topsfinally', 'torch', 'torched', 'tore', 'tormented', 'torture', 'tortured', 'total', 'totally', 'totalweedkillers', 'touch', 'tough', 'tour', 'toward', 'towards', 'toxic', 'tr', 'track', 'trade', 'tradition', 'traditions', 'traffic', 'trafficker', 'tragic', 'trailer', 'train', 'training', 'traitor', 'trans', 'transfer', 'transferred', 'transfigure', 'translate', 'transport', 'transverse', 'trap', 'trapped', 'traumatised', 'traveled', 'travelling', 'travesty', 'treachery', 'treat', 'treated', 'treatment', 'treaty', 'tremendous', 'tremendously', 'trend', 'trending', 'trial', 'tribal', 'tribunal', 'tricolour', 'tried', 'trigger', 'trillioneconomy', 'trip', 'triple', 'tripletalak', 'tripletalaq', 'tripletalaqbill', 'triplethalak', 'tripple', 'tripura', 'trivial', 'troop', 'trouble', 'trp', 'tru', 'truck', 'true', 'truly', 'trump', 'trump2020', 'trumpboth', 'trumpgoback', 'trumpi', 'trumpindiavisit', 'trumpinindia', 'trumpleavindia', 'trumpmustvisitshaheenbagh', 'trumpvisitin', 'trumpvisitindia', 'trumpwall', 'trupminindia', 'trus', 'trust', 'trustdeficit', 'trusted', 'truth', 'truthfully', 'try', 'trying', 'tt', 'tu', 'tuesday', 'tuesdaymotivation', 'tuesdaythoughts', 'tuff', 'tukade', 'tukdetukdegang', 'tum', 'tumblingbut', 'tumhein', 'tuned', 'tung', 'turbulent', 'turkey', 'turn', 'turned', 'turning', 'tushar', 'tuticorin', 'tutored', 'tv', 'tweet', 'tweeted', 'tweeter', 'tweeting', 'twice', 'twist', 'twisted', 'twisting', 'twitter', 'two', 'tyms', 'type', 'typical', 'uae', 'uapa', 'uber', 'ucc', 'ucl', 'udar', 'uddhav', 'uddhavackeray', 'uddhavthackeray', 'uddhavthakre', 'udhav', 'udhhav', 'ugliness', 'ugly', 'uidai', 'uighur', 'uk', 'ulema', 'ult', 'ulterior', 'ultimate', 'ultimately', 'ultimatum', 'ultravire', 'umbrella', 'umma', 'umpire', 'un', 'unabeted', 'unable', 'unaccountable', 'unadjustable', 'unanimously', 'unarmed', 'unaware', 'unbiased', 'unborn', 'uncalled', 'unchecked', 'uncitizen', 'uncle', 'unconceived', 'unconditionally', 'unconst', 'unconstitutional', 'unconstitutionalmainbhiowaisi', 'uncover', 'uncrowned', 'uncwelondrexel', 'und', 'undemocra', 'undemocrati', 'undemocratic', 'under', 'underage', 'underdog', 'undergo', 'underground', 'underline', 'underlying', 'undermining', 'underst', 'understan', 'understand', 'understanding', 'understands', 'understood', 'undertake', 'undertaken', 'undertone', 'undivided', 'undo', 'undocumented', 'undrstnd', 'uneasiness', 'uneditedvideos', 'uneducated', 'unemployment', 'unethical', 'uneventful', 'unfair', 'unfathomable', 'unfolding', 'unforgiveable', 'unfortunate', 'unfortunately', 'unhappy', 'unhrc', 'uniform', 'uniformcivilcode', 'uninformed', 'union', 'unit', 'unite', 'united', 'uniterrupted', 'unity', 'universe', 'university', 'univision', 'unjust', 'unjustified', 'unka', 'unknowing', 'unknown', 'unlawful', 'unleash', 'unleashed', 'unless', 'unlike', 'unma', 'unmarried', 'unmasked', 'unnecessarily', 'unnecessary', 'unnessory', 'unokuti', 'unpadhs', 'unpeaceful', 'unprepared', 'unprofessional', 'unr', 'unrelated', 'unrepealed', 'unrest', 'unruly', 'unsafe', 'unscrupulous', 'unsecular', 'unsettle', 'unsolicited', 'unstabl', 'unstable', 'unsympathetic', 'until', 'untimely', 'untold', 'untouchable', 'untrue', 'unusual', 'unverified', 'unwarranted', 'unwise', 'unwittingly', 'up', 'upa', 'upar', 'upcoming', 'updated', 'updating', 'updation', 'upfront', 'upgrade', 'uphold', 'upholding', 'upload', 'uploaded', 'upmarket', 'upon', 'upper', 'uppercast', 'uppolice', 'uprising', 'uprooted', 'upsc', 'upset', 'upsetpresident', 'upto', 'ur', 'urba', 'urban', 'urbannaxal', 'urbannaxals', 'urdu', 'ure', 'urge', 'urged', 'urgen', 'urgent', 'urgently', 'uri', 'urself', 'us', 'usa', 'usand', 'usapresident', 'uscirf', 'use', 'used', 'useless', 'uselss', 'user', 'ushered', 'ushering', 'ushi', 'using', 'usko', 'usnatoafghan', 'uspe', 'ustaliban', 'usual', 'usuall', 'usurper', 'ut', 'uta', 'uth', 'utilising', 'utmost', 'uttar', 'uttarpradesh', 'utter', 'uttered', 'utterly', 'utters', 'vacant', 'vacate', 'vadra', 'vain', 'vaishyas', 'valid', 'validate', 'validates', 'validationrejection', 'valley', 'value', 'vandalised', 'vandalising', 'vandalism', 'vandalization', 'vandalized', 'vandalizing', 'vandeymataram', 'vanish', 'vanished', 'vanishing', 'vanzara', 'vardhan', 'various', 'varsha', 'vast', 'vastu', 'vasudhaivakutumbakam', 'vdos', 've', 'vehemently', 'vehementlythen', 'vehicle', 'vehicles', 'veil', 'veiled', 'venemous', 'vengeance', 'vengful', 'venom', 'venomous', 'vent', 'ventura', 'venue', 'ver', 'verbal', 'verdict', 'verge', 'verification', 'verified', 'verify', 'verifying', 'verily', 'versa', 'version', 'very', 'vested', 'veteran', 'vetoed', 'vhp', 'vi', 'via', 'vibhishan', 'vice', 'vicious', 'viciously', 'viciousness', 'victim', 'victimb', 'victimblaming', 'victimcard', 'victimhood', 'victimisation', 'victims', 'victory', 'vid', 'video', 'vidyarthi', 'view', 'viewing', 'viewpoint', 'vigilant', 'vigour', 'vile', 'vilifying', 'village', 'villager', 'villagers', 'villain', 'vinod', 'vio', 'violance', 'violate', 'violated', 'violation', 'violen', 'violence', 'violencewhen', 'violent', 'viralindia', 'viralnews', 'virodh', 'virtual', 'virtually', 'virudhunagar', 'virus', 'visa', 'visible', 'visionary', 'visit', 'visited', 'visiting', 'visuals', 'vital', 'vitamin', 'vitnessing', 'vivek', 'vivekagniho', 'viz', 'vkc', 'vlog', 'vocation', 'voice', 'voiced', 'voilance', 'voilence', 'voilent', 'voilently', 'vol', 'voluntarily', 'vomiting', 'vote', 'votebank', 'voted', 'voter', 'voters', 'voting', 'voucher', 'vulnerable', 'vulture', 'vvip', 'vyavastha', 'wa', 'waalon', 'waalwear', 'waging', 'wah', 'waha', 'wahdelhiriots', 'wait', 'waiting', 'wake', 'wakemeinnovember', 'wakeupindia', 'wala', 'wali', 'walk', 'walking', 'wall', 'wallstreet', 'walo', 'walter', 'wanna', 'want', 'wanted', 'wapis', 'wapo', 'wapsi', 'waqf', 'war', 'waris', 'warispathan', 'warispathanpagalhai', 'warming', 'warned', 'warning', 'warrant', 'warranted', 'warren2020', 'warrior', 'warris', 'warzone', 'washermanpet', 'washington', 'washingtonpost', 'wasnt', 'waste', 'wasted', 'wasting', 'wat', 'watch', 'watched', 'watching', 'water', 'watertight', 'wats', 'wave', 'way', 'waziristan', 'wb', 'wd', 'we', 'weak', 'weaker', 'wealth', 'weapon', 'weapons', 'wear', 'wearing', 'webseries', 'wednesday', 'weed', 'week', 'weeks', 'weep', 'weeping', 'weighed', 'wel', 'welcome', 'welcomeand', 'welcomed', 'welcoming', 'welfare', 'well', 'welland', 'wellequipped', 'wellington', 'went', 'wer', 'were', 'wereare', 'werent', 'west', 'westbengal', 'western', 'westerner', 'wesup', 'wesupportc', 'wesupportcaa', 'wesupportcaanrc', 'wesupportdelhipolice', 'wesupportmodi', 'wesupporttahirhussain', 'wethepeopleofindia', 'wether', 'wetpants', 'wewantnrc', 'weâ', 'wgbh', 'wh', 'what', 'whatcaa', 'whatever', 'whatevr', 'whatll', 'whatnot', 'whats', 'whatsapp', 'whatsoever', 'whch', 'when', 'whenever', 'whenpolice', 'where', 'whereas', 'whereisdraftswara', 'whether', 'which', 'whichin', 'while', 'whilst', 'whiner', 'whining', 'whipped', 'white', 'whitewalkers', 'whitewash', 'whittled', 'whn', 'who', 'whoever', 'whoinstigated', 'whole', 'wholeheartedly', 'wholly', 'whom', 'whomever', 'whomthose', 'whore', 'whose', 'whosoever', 'whqt', 'whr', 'wht', 'why', 'wi', 'wid', 'wide', 'widespread', 'wife', 'wifi', 'wil', 'will', 'willful', 'william', 'willing', 'willl', 'wimp', 'win', 'windbag', 'window', 'wing', 'wings', 'wining', 'winning', 'wip', 'wipe', 'wise', 'wiser', 'wisest', 'wish', 'wit', 'witch', 'with', 'withdraw', 'withdrawal', 'withdrawing', 'withdrawn', 'within', 'withou', 'without', 'witnessed', 'witnessing', 'wl', 'wmfe', 'wndrful', 'wo', 'woke', 'wolf', 'woman', 'women', 'womenempowerment', 'womensday', 'womenwhocode', 'won', 'wonder', 'wonderful', 'wondering', 'wont', 'wood', 'word', 'wordsmatter', 'work', 'worked', 'worker', 'working', 'workplace', 'workshop', 'workâ', 'world', 'worldagainstdelhipogrom', 'worlddayofsocialjustice', 'worldview', 'worldwide', 'worldâ', 'worried', 'worry', 'worrying', 'worse', 'worst', 'worstdays', 'worth', 'would', 'wouldnt', 'wouldve', 'wound', 'wounded', 'wow', 'wr', 'wrapped', 'wrath', 'wreaked', 'wrest', 'writ', 'write', 'writers', 'writes', 'writing', 'written', 'wrong', 'wrongbut', 'wronghow', 'wrote', 'wrt', 'wsj', 'wtf', 'wth', 'wud', 'xavier', 'xenophobic', 'xtian', 'ya', 'yaar', 'yaha', 'yar', 'ye', 'yeah', 'year', 'years', 'yearsgovt', 'yeh', 'yehmeraindia', 'yelling', 'yellow', 'yep', 'yes', 'yest', 'yesterday', 'yestraday', 'yestshowing', 'yet', 'yield', 'yielding', 'yo', 'yogi', 'yojanas', 'yoo', 'you', 'youand', 'youhavebloodonyourhands', 'youll', 'young', 'your', 'youre', 'yours', 'yourself', 'youth', 'youve', 'yr', 'yrrr', 'ysrcp', 'yuddh', 'yup', 'zahil', 'zameen', 'zeal', 'zeenahidarega', 'zeenews', 'zero', 'zihadi', 'zimdabad', 'zindabad', 'zipped', 'zombie', 'zone', 'ªã', '²à', '²ã', '³â', '³ã', '³ðÿ', 'µà', 'µã', 'µï', 'µðÿ', '¹74', '¹à', '¹ã', '¼ã', '¾à', '¾ã', 'âœœðÿ', 'ðÿ', 'ðÿðÿðÿ', 'ðÿœº', 'ÿà', 'œbloody', 'œde', 'œdisinformation', 'œevery', 'œhindustanâ', 'œillegal', 'œman', 'œoppressor', 'œpeaceful', 'œprocaa', 'œrockstarâ', 'œsanders', 'œserious', 'œsmartâ', 'œthe', 'œthough', 'œtrue', 'œusual', 'œwe', 'œº', 'œà', 'œâ', 'œã', 'œœ', 'œœï', 'šjaihind', 'šà', 'šã', 'žâ', 'žã', 'žðÿ', 'ˆà', 'ˆã']\n",
      "Dimension of input data after tf-idf vectorization: (4062, 9058)\n"
     ]
    }
   ],
   "source": [
    "from sklearn.feature_extraction.text import TfidfVectorizer\n",
    "def Tf_idf(data):\n",
    "    tweet_data = data['Tweet']\n",
    "    vectorizer = TfidfVectorizer()\n",
    "    X = vectorizer.fit_transform(tweet_data)\n",
    "    print(vectorizer.get_feature_names())\n",
    "    return X\n",
    "\n",
    "X = Tf_idf(data)\n",
    "print(\"Dimension of input data after tf-idf vectorization:\", X.shape)"
   ]
  },
  {
   "cell_type": "code",
   "execution_count": null,
   "metadata": {},
   "outputs": [],
   "source": [
    "from sklearn.feature_extraction.text import CountVectorizer\n",
    "def count_vectorizer(data):\n",
    "    tweet_data = data['Tweet']\n",
    "    bow_vectorizer = CountVectorizer(max_df=0.90, min_df=2, max_features=1000, stop_words='english')\n",
    "\n",
    "    # bag-of-words feature matrix\n",
    "    bow = bow_vectorizer.fit_transform(tweet_data)\n",
    "\n",
    "    df_bow = pd.DataFrame(bow.todense())\n",
    "\n",
    "    return df_bow\n",
    "X = count_vectorizer(data)"
   ]
  },
  {
   "cell_type": "markdown",
   "metadata": {
    "colab_type": "text",
    "id": "I-ZJXyDxlbnl"
   },
   "source": [
    "# Split the data into training and testing set"
   ]
  },
  {
   "cell_type": "code",
   "execution_count": 7,
   "metadata": {
    "colab": {
     "base_uri": "https://localhost:8080/",
     "height": 68
    },
    "colab_type": "code",
    "id": "_UudTFU30f_u",
    "outputId": "71807d38-6fab-4b62-b21d-ce1f63a51808"
   },
   "outputs": [
    {
     "name": "stdout",
     "output_type": "stream",
     "text": [
      "[-1.  1.  1. ...  0.  0.  0.]\n",
      "Dimension of training features and label:  (3249, 9058) (3249,)\n",
      "Dimension of testing features and label:  (813, 9058) (813,)\n"
     ]
    }
   ],
   "source": [
    "from sklearn.model_selection import train_test_split\n",
    "# Y = pd.get_dummies(data['Label']).values\n",
    "\n",
    "def split_train_test(X, Y):\n",
    "    Y=data[\"Label\"].values\n",
    "    print(Y)\n",
    "    X_train, X_test, Y_train, Y_test = train_test_split(X, Y, test_size = 0.20)\n",
    "    print(\"Dimension of training features and label: \", X_train.shape,Y_train.shape)\n",
    "    print(\"Dimension of testing features and label: \", X_test.shape,Y_test.shape)\n",
    "\n",
    "    return X_train, X_test, Y_train, Y_test\n",
    "\n",
    "Y = data['Label']\n",
    "X_train, X_test, Y_train, Y_test = split_train_test(X, Y)"
   ]
  },
  {
   "cell_type": "code",
   "execution_count": 13,
   "metadata": {
    "colab": {
     "base_uri": "https://localhost:8080/",
     "height": 476
    },
    "colab_type": "code",
    "id": "uJI14SFMvcWz",
    "outputId": "a4496a71-72db-4319-d85a-4c0a8df48fe6"
   },
   "outputs": [
    {
     "name": "stdout",
     "output_type": "stream",
     "text": [
      "  (0, 8770)\t0.27250960911228206\n",
      "  (0, 7755)\t0.3146023208716008\n",
      "  (0, 2092)\t0.2584204410443196\n",
      "  (0, 2722)\t0.24814205732368488\n",
      "  (0, 5573)\t0.2365603357815669\n",
      "  (0, 256)\t0.23826348005583695\n",
      "  (0, 6415)\t0.25293761272898674\n",
      "  (0, 3816)\t0.2333656163456914\n",
      "  (0, 4215)\t0.17556782799277124\n",
      "  (0, 4688)\t0.2872812887735657\n",
      "  (0, 1467)\t0.20917879337048917\n",
      "  (0, 3078)\t0.18181459958429397\n",
      "  (0, 1984)\t0.24595206485482068\n",
      "  (0, 7950)\t0.15647348884088821\n",
      "  (0, 1669)\t0.1471893846625545\n",
      "  (0, 7369)\t0.13181622347986488\n",
      "  (0, 4008)\t0.1034099328655409\n",
      "  (0, 5614)\t0.09505677145011004\n",
      "  (0, 8053)\t0.20010932118723979\n",
      "  (0, 4322)\t0.08940018121610059\n",
      "  (0, 4276)\t0.14416525097485236\n",
      "  (0, 8104)\t0.10853348050163011\n",
      "  (0, 8171)\t0.06268198918702585\n",
      "  (0, 5636)\t0.11486446441014704\n",
      "  (0, 1412)\t0.10118501820136099\n",
      "  (0, 5773)\t0.13592527563885906\n",
      "  (0, 562)\t0.08301749366556081\n"
     ]
    }
   ],
   "source": [
    "import numpy as np\n",
    "print(np.array(X_train[10]))\n",
    "# print(X_test)\n",
    "# print(Y_train)\n",
    "# print(Y_test)"
   ]
  },
  {
   "cell_type": "markdown",
   "metadata": {
    "colab_type": "text",
    "id": "DRP_zT72pElb"
   },
   "source": [
    "# Train the Machine Learning Models"
   ]
  },
  {
   "cell_type": "code",
   "execution_count": 14,
   "metadata": {
    "colab": {
     "base_uri": "https://localhost:8080/",
     "height": 34
    },
    "colab_type": "code",
    "id": "UzQQ0M3j0f_1",
    "outputId": "cdb2b2fa-2395-4b71-c4d0-d435817531cf"
   },
   "outputs": [
    {
     "name": "stdout",
     "output_type": "stream",
     "text": [
      "accuracy score on the logistic regression model: 0.6186961869618696\n"
     ]
    }
   ],
   "source": [
    "from sklearn.linear_model import LogisticRegression\n",
    "from sklearn.metrics import accuracy_score\n",
    "\n",
    "def Logistic_regression_model(X_train, X_test, Y_train, Y_test):\n",
    "\n",
    "    logreg = LogisticRegression(C=100, max_iter=500)\n",
    "    logreg.fit(X_train, Y_train)\n",
    "    y_pred = logreg.predict(X_test)\n",
    "\n",
    "    print(\"accuracy score on the logistic regression model:\", accuracy_score(y_pred, Y_test))\n",
    "    return y_pred\n",
    "y_pred = Logistic_regression_model(X_train, X_test, Y_train, Y_test)"
   ]
  },
  {
   "cell_type": "code",
   "execution_count": 15,
   "metadata": {
    "colab": {
     "base_uri": "https://localhost:8080/",
     "height": 34
    },
    "colab_type": "code",
    "id": "YVg9wje30f_5",
    "outputId": "f464153e-a4c7-45ad-cae2-0566766d1f19"
   },
   "outputs": [
    {
     "name": "stdout",
     "output_type": "stream",
     "text": [
      "accuracy 0.5399753997539976\n"
     ]
    }
   ],
   "source": [
    "from sklearn.linear_model import SGDClassifier\n",
    "def SGD_model(X_train, X_test, Y_train, Y_test):\n",
    "    sgd= SGDClassifier(loss='hinge', penalty='l2',alpha=0.01, random_state=42, max_iter=100, tol=None)\n",
    "    sgd.fit(X_train, Y_train)\n",
    "    y_pred = sgd.predict(X_test)\n",
    "\n",
    "    print('accuracy %s' % accuracy_score(y_pred, Y_test))\n",
    "\n",
    "SGD_model(X_train, X_test, Y_train, Y_test)"
   ]
  },
  {
   "cell_type": "code",
   "execution_count": 16,
   "metadata": {
    "colab": {
     "base_uri": "https://localhost:8080/",
     "height": 34
    },
    "colab_type": "code",
    "id": "xFJMhX5YR4Ze",
    "outputId": "ce6e85f7-bcbe-44ea-e506-80b8a4555243"
   },
   "outputs": [
    {
     "name": "stdout",
     "output_type": "stream",
     "text": [
      "Accuracy of SVM model:  0.6113161131611317\n"
     ]
    }
   ],
   "source": [
    "from sklearn import svm\n",
    "from sklearn.metrics import accuracy_score\n",
    "def SVM(X_train, X_test, Y_train, Y_test):\n",
    "    \n",
    "    classifier = svm.SVC()\n",
    "    classifier.fit(X_train, Y_train)\n",
    "    y_pred = classifier.predict(X_test)\n",
    "    accuracy = accuracy_score(Y_test,y_pred)\n",
    "\n",
    "    print(\"Accuracy of SVM model: \", accuracy)\n",
    "\n",
    "SVM(X_train, X_test, Y_train, Y_test)"
   ]
  },
  {
   "cell_type": "code",
   "execution_count": 17,
   "metadata": {
    "colab": {
     "base_uri": "https://localhost:8080/",
     "height": 34
    },
    "colab_type": "code",
    "id": "EUdIGAgb5AqB",
    "outputId": "b641b4db-4344-4d64-ea32-d0801a58776f"
   },
   "outputs": [
    {
     "name": "stdout",
     "output_type": "stream",
     "text": [
      "Accuracy of random forest algorithm:  0.5854858548585485\n"
     ]
    }
   ],
   "source": [
    "from sklearn.ensemble import RandomForestClassifier\n",
    "def build_model_randomForest(X_train, X_test, Y_train, Y_test):\n",
    "    \n",
    "    clf=RandomForestClassifier(n_estimators=10)\n",
    "    clf.fit(X_train, Y_train)\n",
    "    y_pred = clf.predict(X_test)\n",
    "    accuracy = accuracy_score(Y_test,y_pred)\n",
    "    \n",
    "    print(\"Accuracy of random forest algorithm: \", accuracy)\n",
    "\n",
    "build_model_randomForest(X_train, X_test, Y_train, Y_test)"
   ]
  },
  {
   "cell_type": "code",
   "execution_count": 18,
   "metadata": {
    "colab": {
     "base_uri": "https://localhost:8080/",
     "height": 34
    },
    "colab_type": "code",
    "id": "gRPv_jAATTxJ",
    "outputId": "e3512ecc-fdd5-4877-f448-632d057f08c0"
   },
   "outputs": [
    {
     "name": "stdout",
     "output_type": "stream",
     "text": [
      "Accuracy of Naive Bayes Model:  0.5731857318573186\n"
     ]
    }
   ],
   "source": [
    "from sklearn.naive_bayes import MultinomialNB\n",
    "import numpy as np\n",
    "def model_naiveBayes(X_train, X_test, Y_train, Y_test):\n",
    "\n",
    "    gnb = MultinomialNB()\n",
    "    gnb.fit(X_train, Y_train)\n",
    "    y_pred = gnb.predict(X_test)\n",
    "    accuracy = accuracy_score(Y_test,y_pred)\n",
    "\n",
    "    print(\"Accuracy of Naive Bayes Model: \", accuracy)\n",
    "\n",
    "model_naiveBayes(X_train, X_test, Y_train, Y_test)"
   ]
  },
  {
   "cell_type": "markdown",
   "metadata": {
    "colab_type": "text",
    "id": "pN5CCzaYW5eW"
   },
   "source": [
    "# RNN"
   ]
  },
  {
   "cell_type": "code",
   "execution_count": 0,
   "metadata": {
    "colab": {},
    "colab_type": "code",
    "id": "DyPUOTos9RPh"
   },
   "outputs": [],
   "source": [
    "X_train_mat=X_train.toarray()\n",
    "X_train_NN=X_train_mat.reshape(X_train_mat.shape[0],X_train_mat.shape[1],1)\n",
    "Y_train_NN = pd.get_dummies(Y_train).values"
   ]
  },
  {
   "cell_type": "code",
   "execution_count": 63,
   "metadata": {
    "colab": {
     "base_uri": "https://localhost:8080/",
     "height": 119
    },
    "colab_type": "code",
    "id": "qrckwDFT-_09",
    "outputId": "8678a727-e408-4ffb-888e-3629cd51aeea"
   },
   "outputs": [
    {
     "name": "stdout",
     "output_type": "stream",
     "text": [
      "Epoch 1/3\n",
      "3249/3249 [==============================] - 341s 105ms/step - loss: 0.2012 - accuracy: 0.5432\n",
      "Epoch 2/3\n",
      "3249/3249 [==============================] - 354s 109ms/step - loss: 0.1125 - accuracy: 0.7892\n",
      "Epoch 3/3\n",
      "3249/3249 [==============================] - 350s 108ms/step - loss: 0.0766 - accuracy: 0.8596\n"
     ]
    }
   ],
   "source": [
    "import tensorflow as tf\n",
    "from keras.models import Sequential\n",
    "from keras.layers import Dense, SimpleRNN, Dropout,Flatten\n",
    "\n",
    "regressor=Sequential()\n",
    "#first RNN layer\n",
    "regressor.add(SimpleRNN(128,activation=\"relu\",return_sequences=True,input_shape=(X_train_NN.shape[1],X_train_NN.shape[2])))\n",
    "regressor.add(Dropout(0.25))\n",
    "regressor.add(Flatten())\n",
    "regressor.add(Dense(3))\n",
    "\n",
    "regressor.compile(optimizer=\"adam\",loss=\"mean_squared_error\",metrics = ['accuracy'])\n",
    "regressor_history =regressor.fit(X_train_NN,Y_train_NN,epochs=3,batch_size=64)\n"
   ]
  },
  {
   "cell_type": "code",
   "execution_count": 0,
   "metadata": {
    "colab": {},
    "colab_type": "code",
    "id": "JoAVmmoPGo4g"
   },
   "outputs": [],
   "source": [
    "import numpy as np\n",
    "loss_fn=str(np.mean(regressor_history.history['loss']))"
   ]
  },
  {
   "cell_type": "code",
   "execution_count": 0,
   "metadata": {
    "colab": {},
    "colab_type": "code",
    "id": "evNVp-dqDKMV"
   },
   "outputs": [],
   "source": [
    "X_test_mat=X_test.toarray()\n",
    "X_test_NN=X_test_mat.reshape(X_test_mat.shape[0],X_test_mat.shape[1],1)\n",
    "Y_test_NN = pd.get_dummies(Y_test).values"
   ]
  },
  {
   "cell_type": "code",
   "execution_count": 0,
   "metadata": {
    "colab": {},
    "colab_type": "code",
    "id": "GPNMa28V_ZTu"
   },
   "outputs": [],
   "source": [
    "predicted_data=regressor.predict(X_test_NN)"
   ]
  },
  {
   "cell_type": "code",
   "execution_count": 0,
   "metadata": {
    "colab": {},
    "colab_type": "code",
    "id": "5w0XdC-gMmNf"
   },
   "outputs": [],
   "source": [
    "y_pred=[]\n",
    "for p in predicted_data:\n",
    "    p=list(p)\n",
    "    i=p.index(max(p))\n",
    "    if(i==0):\n",
    "      y_pred.append(-1)\n",
    "    if(i==1):  \n",
    "      y_pred.append(0)\n",
    "    if(i==2):\n",
    "      y_pred.append(1)  "
   ]
  },
  {
   "cell_type": "code",
   "execution_count": 69,
   "metadata": {
    "colab": {
     "base_uri": "https://localhost:8080/",
     "height": 34
    },
    "colab_type": "code",
    "id": "lIR8QwzlHHUS",
    "outputId": "c0e234e1-ef7e-4571-9281-9a8ccd18a547"
   },
   "outputs": [
    {
     "name": "stdout",
     "output_type": "stream",
     "text": [
      "0.6162361623616236\n"
     ]
    }
   ],
   "source": [
    "from sklearn.metrics import accuracy_score\n",
    "print(accuracy_score(Y_test,y_pred))"
   ]
  },
  {
   "cell_type": "code",
   "execution_count": 0,
   "metadata": {
    "colab": {
     "base_uri": "https://localhost:8080/",
     "height": 308
    },
    "colab_type": "code",
    "id": "WdL-AuRg0f_8",
    "outputId": "3c6c81bb-eed8-4374-a980-7142810b2d15"
   },
   "outputs": [
    {
     "data": {
      "text/plain": [
       "<matplotlib.axes._subplots.AxesSubplot at 0x7f14e9223d30>"
      ]
     },
     "execution_count": 40,
     "metadata": {
      "tags": []
     },
     "output_type": "execute_result"
    },
    {
     "data": {
      "image/png": "[encoded data removed]",
      "text/plain": [
       "<Figure size 432x288 with 1 Axes>"
      ]
     },
     "metadata": {
      "needs_background": "light",
      "tags": []
     },
     "output_type": "display_data"
    }
   ],
   "source": [
    "import matplotlib.pyplot as plt\n",
    "data['Label'].value_counts().sort_index().plot(kind='bar', title='Sentiment Count', color='seagreen')"
   ]
  }
 ],
 "metadata": {
  "colab": {
   "collapsed_sections": [],
   "name": "Logistic and SGD.ipynb",
   "provenance": [],
   "toc_visible": true
  },
  "kernelspec": {
   "display_name": "Python 3",
   "language": "python",
   "name": "python3"
  },
  "language_info": {
   "codemirror_mode": {
    "name": "ipython",
    "version": 3
   },
   "file_extension": ".py",
   "mimetype": "text/x-python",
   "name": "python",
   "nbconvert_exporter": "python",
   "pygments_lexer": "ipython3",
   "version": "3.7.4"
  }
 },
 "nbformat": 4,
 "nbformat_minor": 1
}
