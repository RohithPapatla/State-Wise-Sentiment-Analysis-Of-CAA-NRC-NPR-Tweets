{
 "cells": [
  {
   "cell_type": "code",
   "execution_count": 1,
   "metadata": {},
   "outputs": [],
   "source": [
    "import pandas as pd\n",
    "import collections\n",
    "from collections import defaultdict"
   ]
  },
  {
   "cell_type": "code",
   "execution_count": 2,
   "metadata": {},
   "outputs": [],
   "source": [
    "df=pd.read_excel('complete_data.xlsx')  "
   ]
  },
  {
   "cell_type": "code",
   "execution_count": 3,
   "metadata": {},
   "outputs": [
    {
     "data": {
      "text/plain": [
       "0"
      ]
     },
     "execution_count": 3,
     "metadata": {},
     "output_type": "execute_result"
    }
   ],
   "source": [
    "import xlsxwriter\n",
    "workbook = xlsxwriter.Workbook('myfile.xlsx')\n",
    "worksheet = workbook.add_worksheet()\n",
    "worksheet.write(0, 0,\"states_name\")\n",
    "worksheet.write(0, 1,\"positive\")\n",
    "worksheet.write(0, 2,\"negative\")\n",
    "worksheet.write(0, 3,\"neutral\")"
   ]
  },
  {
   "cell_type": "code",
   "execution_count": 4,
   "metadata": {},
   "outputs": [],
   "source": [
    "def count_labels(df,total=0,i=1):\n",
    "    all_states=set(df[\"Location\"])\n",
    "    for state in all_states:\n",
    "        pos=0\n",
    "        neg=0\n",
    "        nut=0\n",
    "        worksheet.write(i, 0,state)\n",
    "        rows=df.index[df['Location'] == state].tolist()\n",
    "        for row in rows:    \n",
    "            if df.at[row,\"Label\"]== 1:   \n",
    "                pos=pos+1\n",
    "            if df.at[row,\"Label\"]== -1:    \n",
    "                neg=neg+1\n",
    "            if df.at[row,\"Label\"]==0:\n",
    "                nut=nut+1\n",
    "        total=pos+nut+neg\n",
    "        state_dict[state][\"positive\"]=pos/total*100\n",
    "        worksheet.write(i, 1,pos/total*100)\n",
    "        state_dict[state][\"negative\"]=neg/total*100\n",
    "        worksheet.write(i, 2,neg/total*100)\n",
    "        state_dict[state][\"neutral\"]=nut/total*100\n",
    "        worksheet.write(i, 3,nut/total*100)\n",
    "        i=i+1\n",
    "    workbook.close()\n",
    "    return state_dict"
   ]
  },
  {
   "cell_type": "code",
   "execution_count": 5,
   "metadata": {},
   "outputs": [],
   "source": [
    "state_dict=defaultdict(lambda: defaultdict(int))\n",
    "state_dict=count_labels(df)"
   ]
  },
  {
   "cell_type": "code",
   "execution_count": 6,
   "metadata": {},
   "outputs": [],
   "source": [
    "response=pd.read_excel('Data_for_map.xlsx',dtype={'sates_name': str, 'positive': float,'negative': float,\"neutral\":float})  "
   ]
  },
  {
   "cell_type": "code",
   "execution_count": 7,
   "metadata": {},
   "outputs": [
    {
     "data": {
      "text/html": [
       "<div>\n",
       "<style scoped>\n",
       "    .dataframe tbody tr th:only-of-type {\n",
       "        vertical-align: middle;\n",
       "    }\n",
       "\n",
       "    .dataframe tbody tr th {\n",
       "        vertical-align: top;\n",
       "    }\n",
       "\n",
       "    .dataframe thead th {\n",
       "        text-align: right;\n",
       "    }\n",
       "</style>\n",
       "<table border=\"1\" class=\"dataframe\">\n",
       "  <thead>\n",
       "    <tr style=\"text-align: right;\">\n",
       "      <th></th>\n",
       "      <th>states_name</th>\n",
       "      <th>positive</th>\n",
       "      <th>negative</th>\n",
       "      <th>neutral</th>\n",
       "    </tr>\n",
       "  </thead>\n",
       "  <tbody>\n",
       "    <tr>\n",
       "      <th>0</th>\n",
       "      <td>meghalaya</td>\n",
       "      <td>0.000000</td>\n",
       "      <td>14.285714</td>\n",
       "      <td>85.714286</td>\n",
       "    </tr>\n",
       "    <tr>\n",
       "      <th>1</th>\n",
       "      <td>jammu and kashmir</td>\n",
       "      <td>38.528678</td>\n",
       "      <td>19.077307</td>\n",
       "      <td>42.394015</td>\n",
       "    </tr>\n",
       "    <tr>\n",
       "      <th>2</th>\n",
       "      <td>west Bengal</td>\n",
       "      <td>17.948718</td>\n",
       "      <td>12.820513</td>\n",
       "      <td>69.230769</td>\n",
       "    </tr>\n",
       "    <tr>\n",
       "      <th>3</th>\n",
       "      <td>maharashtra</td>\n",
       "      <td>24.505929</td>\n",
       "      <td>16.600791</td>\n",
       "      <td>58.893281</td>\n",
       "    </tr>\n",
       "    <tr>\n",
       "      <th>4</th>\n",
       "      <td>jharkhand</td>\n",
       "      <td>38.888889</td>\n",
       "      <td>16.666667</td>\n",
       "      <td>44.444444</td>\n",
       "    </tr>\n",
       "  </tbody>\n",
       "</table>\n",
       "</div>"
      ],
      "text/plain": [
       "         states_name   positive   negative    neutral\n",
       "0          meghalaya   0.000000  14.285714  85.714286\n",
       "1  jammu and kashmir  38.528678  19.077307  42.394015\n",
       "2        west Bengal  17.948718  12.820513  69.230769\n",
       "3        maharashtra  24.505929  16.600791  58.893281\n",
       "4          jharkhand  38.888889  16.666667  44.444444"
      ]
     },
     "execution_count": 7,
     "metadata": {},
     "output_type": "execute_result"
    }
   ],
   "source": [
    "response.head(5)"
   ]
  },
  {
   "cell_type": "code",
   "execution_count": null,
   "metadata": {},
   "outputs": [],
   "source": []
  }
 ],
 "metadata": {
  "kernelspec": {
   "display_name": "Python 3",
   "language": "python",
   "name": "python3"
  },
  "language_info": {
   "codemirror_mode": {
    "name": "ipython",
    "version": 3
   },
   "file_extension": ".py",
   "mimetype": "text/x-python",
   "name": "python",
   "nbconvert_exporter": "python",
   "pygments_lexer": "ipython3",
   "version": "3.6.3"
  }
 },
 "nbformat": 4,
 "nbformat_minor": 4
}
